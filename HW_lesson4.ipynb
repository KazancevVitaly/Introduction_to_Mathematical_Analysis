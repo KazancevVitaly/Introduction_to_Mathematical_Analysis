{
 "cells": [
  {
   "cell_type": "markdown",
   "id": "e66cebff",
   "metadata": {},
   "source": [
    "# GeekBrains\n",
    "# Введение в математический анализ\n",
    "# ДЗ урока 4\n",
    "## Казанцев Виталий"
   ]
  },
  {
   "cell_type": "markdown",
   "id": "4ab99f40",
   "metadata": {},
   "source": [
    "__1.__ Найти предел функции:\n",
    "\n",
    "#### $$а)\\,\\,\\,\\,\\lim_{x\\to 6} \\frac{x^2-36}{x^2-x-30}$$\n",
    "\n",
    "#### $$б)\\,\\,\\,\\,\\lim_{x\\to 7} \\frac{x^2-49}{x^2-13x+42}$$\n",
    "\n",
    "#### $$в^*)\\,\\,\\,\\,\\lim_{x\\to 7} \\frac{\\sqrt{x+2}-\\sqrt[3]{x+20}}{\\sqrt[4]{x+9}-2}$$\n",
    "\n",
    "#### $$г)\\,\\,\\,\\,\\lim_{x\\to 0} \\frac{3x\\,\\mbox{tg}\\,4x}{1-\\cos4x}$$\n",
    "\n",
    "#### $$д^{**})\\,\\,\\,\\,\\lim_{x\\to 0} \\frac{\\sqrt2x^2\\sin4x}{(1-\\cos2x)^{\\frac{3}{2}}}$$\n",
    "\n",
    "#### $$е)\\,\\,\\,\\,\\lim_{x\\to \\infty} \\Bigr(\\frac{4x}{4x+3}\\Bigl)^\\frac{5x^2}{7x-1}$$\n",
    "\n",
    "#### $$ж^*)\\,\\,\\,\\,\\lim_{x\\to +0} \\frac{5^x-1}{x}$$\n",
    "\n",
    "#### $$з^*)\\,\\,\\,\\,\\lim_{x\\to +\\infty} \\frac{\\ln(x^2-x+1)}{\\ln(x^{10}+x+1)}$$"
   ]
  },
  {
   "cell_type": "markdown",
   "id": "55ecd196",
   "metadata": {},
   "source": [
    "###  $а)\\lim_{x\\to 6} \\frac{x^2-36}{x^2-x-30} = \\frac{0}{0} = \\lim_{x\\to 6} \\frac{(x-6)(x+6)}{(x-6)(x+5)} = \\frac{(x+6)}{(x+5)} = \\frac{12}{11}$"
   ]
  },
  {
   "cell_type": "markdown",
   "id": "09159934",
   "metadata": {},
   "source": [
    "### $б)\\lim_{x\\to 7} \\frac{x^2-49}{x^2-13x+42} = \\frac{0}{0} = \\lim_{x\\to 7} \\frac{(x-7)(x+7)}{(x-7)(x-6)} = \\frac{(x+7)}{(x-6)} = \\frac{14}{1} = 14$"
   ]
  },
  {
   "cell_type": "markdown",
   "id": "8750f184",
   "metadata": {},
   "source": [
    "### $в^*)\\lim_{x\\to 7} \\frac{\\sqrt{x+2}-\\sqrt[3]{x+20}}{\\sqrt[4]{x+9}-2} = \\frac{0}{0} =  \\lim_{x\\to 7} \\frac{\\sqrt{x+2}-\\sqrt[3]{x+20}}{\\sqrt[4]{x+9}-2}\\cdot \\frac{\\sqrt{x+2}+\\sqrt[3]{x+20}}{\\sqrt{x+2}+\\sqrt[3]{x+20}}\\cdot \\frac{\\sqrt[4]{(x+9)^3}+2\\sqrt[4]{(x+9)^2}+4\\sqrt[4]{x+9}+8}{\\sqrt[4]{(x+9)^3}+2\\sqrt[4]{(x+9)^2}+4\\sqrt[4]{x+9}+8} =  \\lim_{x\\to7} \\frac{(x+2-\\sqrt[3]{(x+20)^2)}(\\sqrt[4]{(x+9)^3}+2\\sqrt[4]{(x+9)^2}+4\\sqrt[4]{x+9}+8)}{(x-7)(\\sqrt{x+2}+\\sqrt[3]{x+20})}\\cdot \\frac{(x+2)^2+(x+2)\\sqrt[3]{(x+20)^2}+\\sqrt[3]{(x+20)^4}}{(x+2)^2+(x+2)\\sqrt[3]{(x+20)^2}+\\sqrt[3]{(x+20)^4}} =$\n",
    "### $\\lim_{x\\to7}\\frac{((x+2)^3-(x+20)^2)(\\sqrt[4]{(x+9)^3}+2\\sqrt[4]{(x+9)^2}+4\\sqrt[4]{x+9}+8)}{(x-7)(\\sqrt{x+2}+\\sqrt[3]{x+20})((x+2)^2+(x+2)\\sqrt[3]{(x+20)^2}+\\sqrt[3]{(x+20)^4})} =$ \n",
    "### $\\lim_{x\\to7} \\frac{(x^3+5x^2-28x-392)(\\sqrt[4]{(x+9)^3}+2\\sqrt[4]{(x+9)^2}+4\\sqrt[4]{x+9}+8)}{(x-7)(\\sqrt{x+2}+\\sqrt[3]{x+20})((x+2)^2+(x+2)\\sqrt[3]{(x+20)^2}+\\sqrt[3]{(x+20)^4})} =$\n",
    "### $\\lim_{x\\to7} \\frac{(x-7)(x^2+12x+56)(\\sqrt[4]{(x+9)^3}+2\\sqrt[4]{(x+9)^2}+4\\sqrt[4]{x+9}+8)}{(x-7)(\\sqrt{x+2}+\\sqrt[3]{x+20})((x+2)^2+(x+2)\\sqrt[3]{(x+20)^2}+\\sqrt[3]{(x+20)^4})} =$\n",
    "### $\\lim_{x\\to7} \\frac{(x^2+12x+56)(\\sqrt[4]{(x+9)^3}+2\\sqrt[4]{(x+9)^2}+4\\sqrt[4]{x+9}+8)}{(\\sqrt{x+2}+\\sqrt[3]{x+20})((x+2)^2+(x+2)\\sqrt[3]{(x+20)^2}+\\sqrt[3]{(x+20)^4})} =  \\frac{7\\cdot27\\cdot32}{6\\cdot81\\cdot3} = \\frac{112}{27}$\n"
   ]
  },
  {
   "cell_type": "markdown",
   "id": "58ecb88e",
   "metadata": {},
   "source": [
    "### $г)\\lim_{x\\to 0} \\frac{3x\\,\\mbox{tg}\\,4x}{1-\\cos4x} = \\lim_{x\\to 0} \\frac{3x\\,\\mbox{tg}\\,4x}{\\frac{(4x)^2}{2}} = \\lim_{x\\to 0} \\frac{6x \\mbox{tg} 4x}{4x\\cdot 4x} = \\lim_{x\\to 0} \\frac{6}{4} = \\frac{3}{2}$"
   ]
  },
  {
   "cell_type": "markdown",
   "id": "d742e53d",
   "metadata": {},
   "source": [
    "### $д^{**})\\lim_{x\\to 0} \\frac{\\sqrt2x^2\\sin4x}{(1-\\cos2x)^{\\frac{3}{2}}} ......$"
   ]
  },
  {
   "cell_type": "markdown",
   "id": "2b008e97",
   "metadata": {},
   "source": [
    "### $е)\\lim_{x\\to \\infty} \\Bigr(\\frac{4x}{4x+3}\\Bigl)^\\frac{5x^2}{7x-1} = (1)^{+\\infty} = \\lim_{x\\to \\infty} e^{\\Bigl(\\frac{4x}{4x+3}-1\\Bigr)\\cdot \\frac{5x^2}{7x-1}} = \\lim_{x\\to \\infty} e^{\\Bigl(\\frac{4x-3+3}{4x+3}-1\\Bigr)\\cdot \\frac{5x^2}{7x-1}} = \\lim_{x\\to \\infty} e^{\\frac{-3}{4x+3}\\cdot \\frac{5x^2}{7x-1}} = e^{\\frac{-3\\cdot 5}{4\\cdot7}} = e^{-\\frac{15}{28}}$"
   ]
  },
  {
   "cell_type": "markdown",
   "id": "fb05aa06",
   "metadata": {},
   "source": [
    "### $ж^*)\\,\\,\\,\\,\\lim_{x\\to +0} \\frac{5^x-1}{x} ........$"
   ]
  },
  {
   "cell_type": "markdown",
   "id": "7ce46d5d",
   "metadata": {},
   "source": [
    "### $з^*)\\lim_{x\\to +\\infty} \\frac{\\ln(x^2-x+1)}{\\ln(x^{10}+x+1)} ........$"
   ]
  },
  {
   "cell_type": "markdown",
   "id": "5580f094",
   "metadata": {},
   "source": [
    "__2*.__ На языке Python предложить алгоритм вычисляющий численно предел последовательности\n",
    "\n",
    "### $$\\lim_{n\\to +\\infty} \\frac{n}{\\sqrt[n]{n!}}$$"
   ]
  },
  {
   "cell_type": "code",
   "execution_count": 1,
   "id": "94cb63e9",
   "metadata": {},
   "outputs": [
    {
     "data": {
      "text/latex": [
       "$\\displaystyle e$"
      ],
      "text/plain": [
       "E"
      ]
     },
     "execution_count": 1,
     "metadata": {},
     "output_type": "execute_result"
    }
   ],
   "source": [
    "from sympy import limit, symbols, oo, factorial\n",
    "\n",
    "n = symbols('n')\n",
    "\n",
    "expr = n/(factorial(n))**(1/n)\n",
    "limit_expr = limit(expr, n, oo)\n",
    "limit_expr"
   ]
  },
  {
   "cell_type": "code",
   "execution_count": 2,
   "id": "8d3cd1bb",
   "metadata": {},
   "outputs": [
    {
     "data": {
      "text/plain": [
       "Decimal('2.716780632436131712034660257185345345700082362194761069160875907273002044511905223620700178664885272')"
      ]
     },
     "execution_count": 2,
     "metadata": {},
     "output_type": "execute_result"
    }
   ],
   "source": [
    "from decimal import Decimal, getcontext\n",
    "getcontext().prec = 100\n",
    "n = 10**4\n",
    "\n",
    "def fact(n):\n",
    "    f = 1\n",
    "    for i in range(1, n+1):\n",
    "        f *= i\n",
    "        yield f\n",
    "\n",
    "\n",
    "n_factor = 1\n",
    "for i in fact(n):\n",
    "    n_factor = i\n",
    "# print(n_factor)\n",
    "\n",
    "n_factor = Decimal(n_factor)\n",
    "n = Decimal(n)\n",
    "lim = n/n_factor**(1/n)\n",
    "lim"
   ]
  },
  {
   "cell_type": "code",
   "execution_count": null,
   "id": "e98b2ef4",
   "metadata": {},
   "outputs": [],
   "source": []
  }
 ],
 "metadata": {
  "kernelspec": {
   "display_name": "Python 3",
   "language": "python",
   "name": "python3"
  },
  "language_info": {
   "codemirror_mode": {
    "name": "ipython",
    "version": 3
   },
   "file_extension": ".py",
   "mimetype": "text/x-python",
   "name": "python",
   "nbconvert_exporter": "python",
   "pygments_lexer": "ipython3",
   "version": "3.8.8"
  }
 },
 "nbformat": 4,
 "nbformat_minor": 5
}
