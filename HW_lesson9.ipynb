{
 "cells": [
  {
   "cell_type": "markdown",
   "id": "7eb7f33d",
   "metadata": {},
   "source": [
    "# Введение в математический анализ\n",
    "# GeekBrains\n",
    "## ДЗ Урока 9\n",
    "## Казанцев Виталий"
   ]
  },
  {
   "cell_type": "markdown",
   "id": "0069476d",
   "metadata": {},
   "source": [
    "__1.__ Вычислить неопределенный интеграл\n",
    "\n",
    "### $$\\int \\frac{2x+3}{(x-2)(x+5)}\\,dx$$\n"
   ]
  },
  {
   "cell_type": "markdown",
   "id": "78d58396",
   "metadata": {},
   "source": [
    "Решение:\n",
    "# $\\frac{2x+3}{(x-2)(x+5)}=\\frac{A}{x-2}+\\frac{B}{x+5}=\\frac{x(A+B)+(5A-2B)}{(x-2)(x+5)} \\Rightarrow$\n",
    "# $\\begin{cases}A+B=2 \\\\ 5A-2B=3\\end{cases} \\Rightarrow \\begin{cases}A=1 \\\\ B=1\\end{cases} \\Rightarrow$\n",
    "# $\\frac{2x+3}{(x-2)(x+5)}=\\frac{1}{x-2}+\\frac{1}{x+5} \\Rightarrow$\n",
    "# $\\int \\frac{2x+3}{(x-2)(x+5)}\\,dx=\\int \\frac{1}{x-2}\\,dx+\\int \\frac{1}{x+5}\\,dx=ln(|x-2|\\cdot|x+5|)+C$"
   ]
  },
  {
   "cell_type": "markdown",
   "id": "0824e206",
   "metadata": {},
   "source": [
    "Ответ:\n",
    "# $ln(|x-2|\\cdot|x+5|)+C$"
   ]
  },
  {
   "cell_type": "markdown",
   "id": "bdff6dc6",
   "metadata": {},
   "source": [
    "__2.__ Вычислить неопределенный интеграл\n",
    "\n",
    "### $$\\int e^{2x}\\cos 3x\\,dx$$"
   ]
  },
  {
   "cell_type": "markdown",
   "id": "ef2f8fa8",
   "metadata": {},
   "source": [
    "# $U=e^{2x} \\Rightarrow \\,dU=2e^{2x}dx$\n",
    "# $dV=\\cos 3x\\,dx \\Rightarrow V=\\frac{\\sin 3x}{3}$\n",
    "### $\\int U\\cdot dV=U\\cdot V-\\int V\\cdot dU$"
   ]
  },
  {
   "cell_type": "markdown",
   "id": "8b64f9ab",
   "metadata": {},
   "source": [
    "# $\\int e^{2x}\\cos 3x\\,dx=e^{2x}\\cdot\\frac{\\sin 3x}{3}-\\int \\frac{\\sin 3x}{3}\\cdot 2e^{2x}\\,dx$"
   ]
  },
  {
   "cell_type": "markdown",
   "id": "8263268e",
   "metadata": {},
   "source": [
    "###  $$\\int \\frac{\\sin 3x}{3}\\cdot 2e^{2x}\\,dx$$"
   ]
  },
  {
   "cell_type": "markdown",
   "id": "551f8f75",
   "metadata": {},
   "source": [
    "# $U=2e^{2x} \\Rightarrow dU=4e^{2x}$\n",
    "# $dV=\\frac{\\sin 3x}{3}\\,dx \\Rightarrow V=-\\frac{\\cos 3x}{9}$\n"
   ]
  },
  {
   "cell_type": "markdown",
   "id": "9a9ebc11",
   "metadata": {},
   "source": [
    "#  $\\int \\frac{\\sin 3x}{3}\\cdot 2e^{2x}\\,dx=2e^{2x}\\cdot(-\\frac{\\cos3x}{9})-\\int-(\\frac{\\cos{3x}}{9})\\cdot4e^{2x}\\,dx$"
   ]
  },
  {
   "cell_type": "markdown",
   "id": "e63ddfdb",
   "metadata": {},
   "source": [
    "# $\\int e^{2x}\\cos 3x\\,dx=\\frac{e^{2x}\\sin{3x}}{3}+\\frac{2e^{2x}\\cos{3x}}{9}-\\frac{4}{9}\\int e^{2x}{\\cos{3x}}$\n",
    "# $\\int e^{2x}\\cos 3x\\,dx=\\frac{e^{2x}\\sin{3x}}{3}\\cdot\\frac{9}{13}+\\frac{2e^{2x}\\cos{3x}}{9}\\cdot\\frac{9}{1} +C =$  \n",
    "# $= \\frac{3e^{2x}\\sin{3x}}{13}+\\frac{2e^{2x}\\cos{3x}}{13}+C$"
   ]
  },
  {
   "cell_type": "markdown",
   "id": "6aec92cb",
   "metadata": {},
   "source": [
    "Проверка:\n",
    "# $(\\frac{3e^{2x}\\sin{3x}}{13})'=\\frac{6e^{2x}\\sin{3x}+9e^{2x}\\cos{3x}}{13}$\n",
    "# $(\\frac{2e^{2x}\\cos{3x}}{13})'=\\frac{4e^{2x}\\cos{3x}-6e^{2x}\\sin{3x}}{13}$\n",
    "# $\\frac{6e^{2x}\\sin{3x}+9e^{2x}\\cos{3x}}{13}+\\frac{4e^{2x}\\cos{3x}-6e^{2x}\\sin{3x}}{13} = e^{2x}\\cos{3x}$ "
   ]
  },
  {
   "cell_type": "markdown",
   "id": "5b7a1b47",
   "metadata": {},
   "source": [
    "Ответ:\n",
    "# $\\int e^{2x}\\cos 3x\\,dx=\\frac{3e^{2x}\\sin{3x}}{13}+\\frac{2e^{2x}\\cos{3x}}{13}+C$"
   ]
  },
  {
   "cell_type": "markdown",
   "id": "262dbad8",
   "metadata": {},
   "source": [
    "__3.__ Вычислить определенный интеграл\n",
    "\n",
    "### $$\\int\\limits_0^{\\ln2} xe^{-x}\\,dx$$"
   ]
  },
  {
   "cell_type": "markdown",
   "id": "985095ae",
   "metadata": {},
   "source": [
    "Решение:\n",
    "# $\\int xe^{-x}\\,dx$"
   ]
  },
  {
   "cell_type": "markdown",
   "id": "628461b9",
   "metadata": {},
   "source": [
    "# $U=x \\Rightarrow dU=dx$\n",
    "# $dV=e^{-x}\\,dx \\Rightarrow V=-e^{-x}$\n",
    "# $\\int xe^{-x}\\,dx=-x\\cdot e^{-x}-\\int (-e^{--x})\\cdot\\,dx=-xe^{-x}-e^{-x}=-e^{-x}(x+1)+C$"
   ]
  },
  {
   "cell_type": "markdown",
   "id": "9c81c625",
   "metadata": {},
   "source": [
    "# $\\int\\limits_0^{\\ln2} xe^{-x}\\,dx = -\\frac{\\ln{2}+1}{2}+1=\\frac{1-\\ln{2}}{2}$"
   ]
  },
  {
   "cell_type": "markdown",
   "id": "8d5d688f",
   "metadata": {},
   "source": [
    "Ответ:\n",
    "# $\\int\\limits_0^{\\ln2} xe^{-x}\\,dx =\\frac{1-\\ln{2}}{2}$"
   ]
  },
  {
   "cell_type": "markdown",
   "id": "8eddfdca",
   "metadata": {},
   "source": [
    "__4.__ Вычислить несобственный интеграл\n",
    "\n",
    "### $$\\int\\limits_2^{+\\infty} \\frac{dx}{x^2+x-2}$$"
   ]
  },
  {
   "cell_type": "markdown",
   "id": "e9d4695d",
   "metadata": {},
   "source": [
    "# $\\int\\frac{dx}{x^2+x-2} = \\int\\frac{dx}{(x+2)(x-1)}=\\frac{\\ln{|x-1|}}{3}-\\frac{\\ln{|x+2|}}{3}+C$\n",
    "# $\\frac{A}{x+2}+\\frac{B}{x-1}=\\frac{x(A+B)+(2B-A)}{(x+2)(x-1)} \\Rightarrow$\n",
    "# $\\begin{cases}A+B=0 \\\\ 2B-A=1\\end{cases} \\Rightarrow \\begin{cases} A=-\\frac{1}{3} \\\\ B=\\frac{1}{3}\\end{cases}$"
   ]
  },
  {
   "cell_type": "markdown",
   "id": "00478d3f",
   "metadata": {},
   "source": [
    "Проверяем:\n",
    "# $(\\frac{\\ln{|x-1|}}{3})'= \\frac{1}{3(x-1)}$\n",
    "# $(\\frac{\\ln{|x+2|}}{3})'= \\frac{1}{3(x+2)}$\n",
    "# $\\frac{1}{3(x-1)}-\\frac{1}{3(x+2)}=\\frac{x+2-x+1}{3(x-1)(x+2)}=\\frac{1}{(x+2)(x-1)}$ "
   ]
  },
  {
   "cell_type": "markdown",
   "id": "0ec6a900",
   "metadata": {},
   "source": [
    "# $\\int\\limits_2^{+\\infty} \\frac{dx}{x^2+x-2}=\\infty-\\infty - \\frac{ln(1)+ln(4)}{3}=\\frac{ln(4)}{3}$"
   ]
  },
  {
   "cell_type": "markdown",
   "id": "329c83f1",
   "metadata": {},
   "source": [
    "Ответ:\n",
    "# $\\int\\limits_2^{+\\infty} \\frac{dx}{x^2+x-2}=\\frac{ln{4}}{3}$"
   ]
  },
  {
   "cell_type": "markdown",
   "id": "9d3d8677",
   "metadata": {},
   "source": [
    "__5*.__ Вычислить несобственный интеграл\n",
    "\n",
    "### $$\\int\\limits_0^{1} \\ln x\\,dx$$"
   ]
  },
  {
   "cell_type": "markdown",
   "id": "57320fe0",
   "metadata": {},
   "source": [
    "Решение:\n",
    "# $U=\\ln{x} \\Rightarrow dU=\\frac{1}{x}\\,dx$\n",
    "# $dV=\\,dx \\Rightarrow V=x$"
   ]
  },
  {
   "cell_type": "markdown",
   "id": "b70cd87a",
   "metadata": {},
   "source": [
    "# $\\int \\ln{x}\\,dx=x\\ln{x}-\\int x\\cdot\\frac{1}{x}=x\\ln{x}-x$"
   ]
  },
  {
   "cell_type": "markdown",
   "id": "de730436",
   "metadata": {},
   "source": [
    "# $\\int\\limits_0^{1} \\ln x\\,dx = 0 - 2 =-1$"
   ]
  },
  {
   "cell_type": "markdown",
   "id": "51820747",
   "metadata": {},
   "source": [
    "Ответ: -1"
   ]
  }
 ],
 "metadata": {
  "kernelspec": {
   "display_name": "Python 3",
   "language": "python",
   "name": "python3"
  },
  "language_info": {
   "codemirror_mode": {
    "name": "ipython",
    "version": 3
   },
   "file_extension": ".py",
   "mimetype": "text/x-python",
   "name": "python",
   "nbconvert_exporter": "python",
   "pygments_lexer": "ipython3",
   "version": "3.8.8"
  }
 },
 "nbformat": 4,
 "nbformat_minor": 5
}
