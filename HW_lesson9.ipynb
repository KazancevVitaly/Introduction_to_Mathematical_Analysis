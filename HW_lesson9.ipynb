{
 "cells": [
  {
   "cell_type": "markdown",
   "id": "c9875259",
   "metadata": {},
   "source": [
    "# Введение в математический анализ\n",
    "# GeekBrains\n",
    "## ДЗ Урока 9\n",
    "## Казанцев Виталий"
   ]
  },
  {
   "cell_type": "markdown",
   "id": "8f38dc5d",
   "metadata": {},
   "source": [
    "__1.__ Вычислить неопределенный интеграл\n",
    "\n",
    "### $$\\int \\frac{2x+3}{(x-2)(x+5)}\\,dx$$\n"
   ]
  },
  {
   "cell_type": "markdown",
   "id": "d7c9c668",
   "metadata": {},
   "source": [
    "Решение:\n",
    "# $\\frac{2x+3}{(x-2)(x+5)}=\\frac{A}{x-2}+\\frac{B}{x+5}=\\frac{x(A+B)+(5A-2B)}{(x-2)(x+5)} \\Rightarrow$\n",
    "# $\\begin{cases}A+B=2 \\\\ 5A-2B=3\\end{cases} \\Rightarrow \\begin{cases}A=1 \\\\ B=1\\end{cases} \\Rightarrow$\n",
    "# $\\frac{2x+3}{(x-2)(x+5)}=\\frac{1}{x-2}+\\frac{1}{x+5} \\Rightarrow$\n",
    "# $\\int \\frac{2x+3}{(x-2)(x+5)}\\,dx=\\int \\frac{1}{x-2}\\,dx+\\int \\frac{1}{x+5}\\,dx=ln(|x-2|\\cdot|x+5|)+C$"
   ]
  },
  {
   "cell_type": "markdown",
   "id": "eff8ea8b",
   "metadata": {},
   "source": [
    "Ответ:\n",
    "# $ln(|x-2|\\cdot|x+5|)+C$"
   ]
  },
  {
   "cell_type": "markdown",
   "id": "fc80fc31",
   "metadata": {},
   "source": [
    "__2.__ Вычислить неопределенный интеграл\n",
    "\n",
    "### $$\\int e^{2x}\\cos 3x\\,dx$$"
   ]
  },
  {
   "cell_type": "markdown",
   "id": "2c96c8d7",
   "metadata": {},
   "source": [
    "# $U=e^{2x} \\Rightarrow \\,dU=2e^{2x}dx$\n",
    "# $dV=\\cos 3x\\,dx \\Rightarrow V=\\frac{\\sin 3x}{3}$\n",
    "### $\\int U\\cdot dV=U\\cdot V-\\int V\\cdot dU$"
   ]
  },
  {
   "cell_type": "markdown",
   "id": "a92ecb7e",
   "metadata": {},
   "source": [
    "# $\\int e^{2x}\\cos 3x\\,dx=e^{2x}\\cdot\\frac{\\sin 3x}{3}-\\int \\frac{\\sin 3x}{3}\\cdot 2e^{2x}\\,dx$"
   ]
  },
  {
   "cell_type": "markdown",
   "id": "cdf1e4c3",
   "metadata": {},
   "source": [
    "###  $$\\int \\frac{\\sin 3x}{3}\\cdot 2e^{2x}\\,dx$$"
   ]
  },
  {
   "cell_type": "markdown",
   "id": "a6ee967f",
   "metadata": {},
   "source": [
    "# $U=2e^{2x} \\Rightarrow dU=4e^{2x}$\n",
    "# $dV=\\frac{\\sin 3x}{3}\\,dx \\Rightarrow V=-\\frac{\\cos 3x}{9}$\n"
   ]
  },
  {
   "cell_type": "markdown",
   "id": "dd233b8f",
   "metadata": {},
   "source": [
    "#  $\\int \\frac{\\sin 3x}{3}\\cdot 2e^{2x}\\,dx=2e^{2x}\\cdot(-\\frac{\\cos3x}{9})-\\int-(\\frac{\\cos{3x}}{9})\\cdot4e^{2x}\\,dx$"
   ]
  },
  {
   "cell_type": "markdown",
   "id": "530568c5",
   "metadata": {},
   "source": [
    "# $\\int e^{2x}\\cos 3x\\,dx=\\frac{e^{2x}\\sin{3x}}{3}+\\frac{2e^{2x}\\cos{3x}}{9}-\\frac{4}{9}\\int e^{2x}{\\cos{3x}}$\n",
    "# $\\int e^{2x}\\cos 3x\\,dx=\\frac{e^{2x}\\sin{3x}}{3}\\cdot\\frac{9}{13}+\\frac{2e^{2x}\\cos{3x}}{9}\\cdot\\frac{9}{13} +C =$  \n",
    "# $= \\frac{3e^{2x}\\sin{3x}}{13}+\\frac{2e^{2x}\\cos{3x}}{13}+C$"
   ]
  },
  {
   "cell_type": "markdown",
   "id": "0168c2c3",
   "metadata": {},
   "source": [
    "Проверка:\n",
    "# $(\\frac{3e^{2x}\\sin{3x}}{13})'=\\frac{6e^{2x}\\sin{3x}+9e^{2x}\\cos{3x}}{13}$\n",
    "# $(\\frac{2e^{2x}\\cos{3x}}{13})'=\\frac{4e^{2x}\\cos{3x}-6e^{2x}\\sin{3x}}{13}$\n",
    "# $\\frac{6e^{2x}\\sin{3x}+9e^{2x}\\cos{3x}}{13}+\\frac{4e^{2x}\\cos{3x}-6e^{2x}\\sin{3x}}{13} = e^{2x}\\cos{3x}$ "
   ]
  },
  {
   "cell_type": "markdown",
   "id": "0db1ce5e",
   "metadata": {},
   "source": [
    "Ответ:\n",
    "# $\\int e^{2x}\\cos 3x\\,dx=\\frac{3e^{2x}\\sin{3x}}{13}+\\frac{2e^{2x}\\cos{3x}}{13}+C$"
   ]
  },
  {
   "cell_type": "markdown",
   "id": "a61a83e0",
   "metadata": {},
   "source": [
    "__3.__ Вычислить определенный интеграл\n",
    "\n",
    "### $$\\int\\limits_0^{\\ln2} xe^{-x}\\,dx$$"
   ]
  },
  {
   "cell_type": "markdown",
   "id": "71b5c73b",
   "metadata": {},
   "source": [
    "Решение:\n",
    "# $\\int xe^{-x}\\,dx$"
   ]
  },
  {
   "cell_type": "markdown",
   "id": "1a2f6b63",
   "metadata": {},
   "source": [
    "# $U=x \\Rightarrow dU=dx$\n",
    "# $dV=e^{-x}\\,dx \\Rightarrow V=-e^{-x}$\n",
    "# $\\int xe^{-x}\\,dx=-x\\cdot e^{-x}-\\int (-e^{--x})\\cdot\\,dx=-xe^{-x}-e^{-x}=-e^{-x}(x+1)+C$"
   ]
  },
  {
   "cell_type": "markdown",
   "id": "b1903b4b",
   "metadata": {},
   "source": [
    "# $\\int\\limits_0^{\\ln2} xe^{-x}\\,dx = -\\frac{\\ln{2}+1}{2}+1=\\frac{1-\\ln{2}}{2}$"
   ]
  },
  {
   "cell_type": "markdown",
   "id": "c71bb18a",
   "metadata": {},
   "source": [
    "Ответ:\n",
    "# $\\int\\limits_0^{\\ln2} xe^{-x}\\,dx =\\frac{1-\\ln{2}}{2}$"
   ]
  },
  {
   "cell_type": "markdown",
   "id": "908d93c8",
   "metadata": {},
   "source": [
    "__4.__ Вычислить несобственный интеграл\n",
    "\n",
    "### $$\\int\\limits_2^{+\\infty} \\frac{dx}{x^2+x-2}$$"
   ]
  },
  {
   "cell_type": "markdown",
   "id": "f84242b6",
   "metadata": {},
   "source": [
    "# $\\int\\frac{dx}{x^2+x-2} = \\int\\frac{dx}{(x+2)(x-1)}=\\frac{\\ln{|x-1|}}{3}-\\frac{\\ln{|x+2|}}{3}+C$\n",
    "# $\\frac{A}{x+2}+\\frac{B}{x-1}=\\frac{x(A+B)+(2B-A)}{(x+2)(x-1)} \\Rightarrow$\n",
    "# $\\begin{cases}A+B=0 \\\\ 2B-A=1\\end{cases} \\Rightarrow \\begin{cases} A=-\\frac{1}{3} \\\\ B=\\frac{1}{3}\\end{cases}$"
   ]
  },
  {
   "cell_type": "markdown",
   "id": "43b26f73",
   "metadata": {},
   "source": [
    "Проверяем:\n",
    "# $(\\frac{\\ln{|x-1|}}{3})'= \\frac{1}{3(x-1)}$\n",
    "# $(\\frac{\\ln{|x+2|}}{3})'= \\frac{1}{3(x+2)}$\n",
    "# $\\frac{1}{3(x-1)}-\\frac{1}{3(x+2)}=\\frac{x+2-x+1}{3(x-1)(x+2)}=\\frac{1}{(x+2)(x-1)}$ "
   ]
  },
  {
   "cell_type": "markdown",
   "id": "306e48b5",
   "metadata": {},
   "source": [
    "# $\\int\\limits_2^{+\\infty} \\frac{dx}{x^2+x-2}=\\infty-\\infty - \\frac{ln(1)+ln(4)}{3}=\\frac{ln(4)}{3}$"
   ]
  },
  {
   "cell_type": "markdown",
   "id": "de0c4d2a",
   "metadata": {},
   "source": [
    "Ответ:\n",
    "# $\\int\\limits_2^{+\\infty} \\frac{dx}{x^2+x-2}=\\frac{ln{4}}{3}$"
   ]
  },
  {
   "cell_type": "markdown",
   "id": "2a58ec72",
   "metadata": {},
   "source": [
    "__5*.__ Вычислить несобственный интеграл\n",
    "\n",
    "### $$\\int\\limits_0^{1} \\ln x\\,dx$$"
   ]
  },
  {
   "cell_type": "markdown",
   "id": "a63d7529",
   "metadata": {},
   "source": [
    "Решение:\n",
    "# $U=\\ln{x} \\Rightarrow dU=\\frac{1}{x}\\,dx$\n",
    "# $dV=\\,dx \\Rightarrow V=x$"
   ]
  },
  {
   "cell_type": "markdown",
   "id": "9a160a08",
   "metadata": {},
   "source": [
    "# $\\int \\ln{x}\\,dx=x\\ln{x}-\\int x\\cdot\\frac{1}{x}=x\\ln{x}-x$"
   ]
  },
  {
   "cell_type": "markdown",
   "id": "e5ff80e0",
   "metadata": {},
   "source": [
    "# $\\int\\limits_0^{1} \\ln x\\,dx = 0 - 2 =-1$"
   ]
  },
  {
   "cell_type": "markdown",
   "id": "c202d580",
   "metadata": {},
   "source": [
    "Ответ: -1"
   ]
  }
 ],
 "metadata": {
  "kernelspec": {
   "display_name": "Python 3",
   "language": "python",
   "name": "python3"
  },
  "language_info": {
   "codemirror_mode": {
    "name": "ipython",
    "version": 3
   },
   "file_extension": ".py",
   "mimetype": "text/x-python",
   "name": "python",
   "nbconvert_exporter": "python",
   "pygments_lexer": "ipython3",
   "version": "3.8.8"
  }
 },
 "nbformat": 4,
 "nbformat_minor": 5
}
