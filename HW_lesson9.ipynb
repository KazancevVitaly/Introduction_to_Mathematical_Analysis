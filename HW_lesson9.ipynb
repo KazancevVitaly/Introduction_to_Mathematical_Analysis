{
 "cells": [
  {
   "cell_type": "markdown",
   "id": "abb81da7",
   "metadata": {},
   "source": [
    "# Введение в математический анализ\n",
    "# GeekBrains\n",
    "## ДЗ Урока 9\n",
    "## Казанцев Виталий"
   ]
  },
  {
   "cell_type": "markdown",
   "id": "24ddb29e",
   "metadata": {},
   "source": [
    "__1.__ Вычислить неопределенный интеграл\n",
    "\n",
    "### $$\\int \\frac{2x+3}{(x-2)(x+5)}\\,dx$$\n"
   ]
  },
  {
   "cell_type": "markdown",
   "id": "7f340411",
   "metadata": {},
   "source": [
    "Решение:\n",
    "# $\\frac{2x+3}{(x-2)(x+5)}=\\frac{A}{x-2}+\\frac{B}{x+5}=\\frac{x(A+B)+(5A-2B)}{(x-2)(x+5)} \\Rightarrow$\n",
    "# $\\begin{cases}A+B=2 \\\\ 5A-2B=3\\end{cases} \\Rightarrow \\begin{cases}A=1 \\\\ B=1\\end{cases} \\Rightarrow$\n",
    "# $\\frac{2x+3}{(x-2)(x+5)}=\\frac{1}{x-2}+\\frac{1}{x+5} \\Rightarrow$\n",
    "# $\\int \\frac{2x+3}{(x-2)(x+5)}\\,dx=\\int \\frac{1}{x-2}\\,dx+\\int \\frac{1}{x+5}\\,dx=ln(|x-2|\\cdot|x+5|)+C$"
   ]
  },
  {
   "cell_type": "markdown",
   "id": "7b2a4136",
   "metadata": {},
   "source": [
    "Ответ:\n",
    "# $ln(|x-2|\\cdot|x+5|)+C$"
   ]
  },
  {
   "cell_type": "markdown",
   "id": "8e21a964",
   "metadata": {},
   "source": [
    "__2.__ Вычислить неопределенный интеграл\n",
    "\n",
    "### $$\\int e^{2x}\\cos 3x\\,dx$$"
   ]
  },
  {
   "cell_type": "markdown",
   "id": "1854e9e5",
   "metadata": {},
   "source": [
    "# $U=e^{2x} \\Rightarrow \\,dU=2e^{2x}dx$\n",
    "# $dV=\\cos 3x\\,dx \\Rightarrow V=\\frac{\\sin 3x}{3}$\n",
    "### $\\int U\\cdot dV=U\\cdot V-\\int V\\cdot dU$"
   ]
  },
  {
   "cell_type": "markdown",
   "id": "f84c435c",
   "metadata": {},
   "source": [
    "# $\\int e^{2x}\\cos 3x\\,dx=e^{2x}\\cdot\\frac{\\sin 3x}{3}-\\int \\frac{\\sin 3x}{3}\\cdot 2e^{2x}\\,dx$"
   ]
  },
  {
   "cell_type": "markdown",
   "id": "96d4b2f6",
   "metadata": {},
   "source": [
    "###  $$\\int \\frac{\\sin 3x}{3}\\cdot 2e^{2x}\\,dx$$"
   ]
  },
  {
   "cell_type": "markdown",
   "id": "4417699d",
   "metadata": {},
   "source": [
    "# $U=2e^{2x} \\Rightarrow dU=4e^{2x}$\n",
    "# $dV=\\frac{\\sin 3x}{3}\\,dx \\Rightarrow V=-\\frac{\\cos 3x}{9}$\n"
   ]
  },
  {
   "cell_type": "markdown",
   "id": "2608d123",
   "metadata": {},
   "source": [
    "#  $\\int \\frac{\\sin 3x}{3}\\cdot 2e^{2x}\\,dx=2e^{2x}\\cdot(-\\frac{\\cos3x}{9})-\\int-(\\frac{\\cos{3x}}{9})\\cdot4e^{2x}\\,dx$"
   ]
  },
  {
   "cell_type": "markdown",
   "id": "1a9acec8",
   "metadata": {},
   "source": [
    "# $\\int e^{2x}\\cos 3x\\,dx=\\frac{e^{2x}\\sin{3x}}{3}+\\frac{2e^{2x}\\cos{3x}}{9}-\\frac{4}{9}\\int e^{2x}{\\cos{3x}}$\n",
    "# $\\int e^{2x}\\cos 3x\\,dx=\\frac{e^{2x}\\sin{3x}}{3}\\cdot\\frac{9}{13}+\\frac{2e^{2x}\\cos{3x}}{9}\\cdot\\frac{9}{1} +C =$  \n",
    "# $= \\frac{3e^{2x}\\sin{3x}}{13}+\\frac{2e^{2x}\\cos{3x}}{13}+C$"
   ]
  },
  {
   "cell_type": "markdown",
   "id": "97d4954c",
   "metadata": {},
   "source": [
    "Проверка:\n",
    "# $(\\frac{3e^{2x}\\sin{3x}}{13})'=\\frac{6e^{2x}\\sin{3x}+9e^{2x}\\cos{3x}}{13}$\n",
    "# $(\\frac{2e^{2x}\\cos{3x}}{13})'=\\frac{4e^{2x}\\cos{3x}-6e^{2x}\\sin{3x}}{13}$\n",
    "# $\\frac{6e^{2x}\\sin{3x}+9e^{2x}\\cos{3x}}{13}+\\frac{4e^{2x}\\cos{3x}-6e^{2x}\\sin{3x}}{13} = e^{2x}\\cos{3x}$ "
   ]
  },
  {
   "cell_type": "markdown",
   "id": "b3365c2c",
   "metadata": {},
   "source": [
    "Ответ:\n",
    "# $\\frac{3e^{2x}\\sin{3x}}{13}+\\frac{2e^{2x}\\cos{3x}}{13}+C$"
   ]
  }
 ],
 "metadata": {
  "kernelspec": {
   "display_name": "Python 3",
   "language": "python",
   "name": "python3"
  },
  "language_info": {
   "codemirror_mode": {
    "name": "ipython",
    "version": 3
   },
   "file_extension": ".py",
   "mimetype": "text/x-python",
   "name": "python",
   "nbconvert_exporter": "python",
   "pygments_lexer": "ipython3",
   "version": "3.8.8"
  }
 },
 "nbformat": 4,
 "nbformat_minor": 5
}
