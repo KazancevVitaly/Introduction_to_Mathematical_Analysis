{
 "cells": [
  {
   "cell_type": "markdown",
   "id": "85850c80",
   "metadata": {},
   "source": [
    "# Введение в математический анализ\n",
    "# GeekBrains\n",
    "## ДЗ Урока 9\n",
    "## Казанцев Виталий"
   ]
  },
  {
   "cell_type": "markdown",
   "id": "d45747e1",
   "metadata": {},
   "source": [
    "__1.__ Вычислить неопределенный интеграл\n",
    "\n",
    "### $$\\int \\frac{2x+3}{(x-2)(x+5)}\\,dx$$\n"
   ]
  },
  {
   "cell_type": "markdown",
   "id": "32c8c323",
   "metadata": {},
   "source": [
    "Решение:\n",
    "# $\\frac{2x+3}{(x-2)(x+5)}=\\frac{A}{x-2}+\\frac{B}{x+5}=\\frac{x(A+B)+(5A-2B)}{(x-2)(x+5)} \\Rightarrow$\n",
    "# $\\begin{cases}A+B=2 \\\\ 5A-2B=3\\end{cases} \\Rightarrow \\begin{cases}A=1 \\\\ B=1\\end{cases} \\Rightarrow$\n",
    "# $\\frac{2x+3}{(x-2)(x+5)}=\\frac{1}{x-2}+\\frac{1}{x+5} \\Rightarrow$\n",
    "# $\\int \\frac{2x+3}{(x-2)(x+5)}\\,dx=\\int \\frac{1}{x-2}\\,dx+\\int \\frac{1}{x+5}\\,dx=ln(|x-2|\\cdot|x+5|)+C$"
   ]
  },
  {
   "cell_type": "markdown",
   "id": "69d241e5",
   "metadata": {},
   "source": [
    "Ответ:\n",
    "# $ln(|x-2|\\cdot|x+5|)+C$"
   ]
  },
  {
   "cell_type": "markdown",
   "id": "63f97ca3",
   "metadata": {},
   "source": [
    "__2.__ Вычислить неопределенный интеграл\n",
    "\n",
    "### $$\\int e^{2x}\\cos 3x\\,dx$$"
   ]
  },
  {
   "cell_type": "markdown",
   "id": "70045304",
   "metadata": {},
   "source": [
    "# $U=e^{2x} \\Rightarrow \\,dU=2e^{2x}dx$\n",
    "# $dV=\\cos 3x\\,dx \\Rightarrow V=\\frac{\\sin 3x}{3}$\n",
    "### $\\int U\\cdot dV=U\\cdot V-\\int V\\cdot dU$"
   ]
  },
  {
   "cell_type": "markdown",
   "id": "c9ad91e2",
   "metadata": {},
   "source": [
    "# $\\int e^{2x}\\cos 3x\\,dx=e^{2x}\\cdot\\frac{\\sin 3x}{3}-\\int \\frac{\\sin 3x}{3}\\cdot 2e^{2x}\\,dx$"
   ]
  },
  {
   "cell_type": "markdown",
   "id": "c295c5e6",
   "metadata": {},
   "source": [
    "###  $$\\int \\frac{\\sin 3x}{3}\\cdot 2e^{2x}\\,dx$$"
   ]
  },
  {
   "cell_type": "markdown",
   "id": "1ed50847",
   "metadata": {},
   "source": [
    "# $U=2e^{2x} \\Rightarrow dU=4e^{2x}$\n",
    "# $dV=\\frac{\\sin 3x}{3}\\,dx \\Rightarrow V=-\\frac{\\cos 3x}{9}$\n"
   ]
  },
  {
   "cell_type": "markdown",
   "id": "1cfd484c",
   "metadata": {},
   "source": [
    "#  $\\int \\frac{\\sin 3x}{3}\\cdot 2e^{2x}\\,dx=2e^{2x}\\cdot(-\\frac{\\cos3x}{9})-\\int-(\\frac{\\cos{3x}}{9})\\cdot4e^{2x}\\,dx$"
   ]
  },
  {
   "cell_type": "markdown",
   "id": "8d988db7",
   "metadata": {},
   "source": [
    "# $\\int e^{2x}\\cos 3x\\,dx=\\frac{e^{2x}\\sin{3x}}{3}+\\frac{2e^{2x}\\cos{3x}}{9}-\\frac{4}{9}\\int e^{2x}{\\cos{3x}}$\n",
    "# $\\int e^{2x}\\cos 3x\\,dx=\\frac{e^{2x}\\sin{3x}}{3}\\cdot\\frac{9}{13}+\\frac{2e^{2x}\\cos{3x}}{9}\\cdot\\frac{9}{13} +C =$  \n",
    "# $= \\frac{3e^{2x}\\sin{3x}}{13}+\\frac{2e^{2x}\\cos{3x}}{13}+C$"
   ]
  },
  {
   "cell_type": "markdown",
   "id": "e0d0e594",
   "metadata": {},
   "source": [
    "Проверка:\n",
    "# $(\\frac{3e^{2x}\\sin{3x}}{13})'=\\frac{6e^{2x}\\sin{3x}+9e^{2x}\\cos{3x}}{13}$\n",
    "# $(\\frac{2e^{2x}\\cos{3x}}{13})'=\\frac{4e^{2x}\\cos{3x}-6e^{2x}\\sin{3x}}{13}$\n",
    "# $\\frac{6e^{2x}\\sin{3x}+9e^{2x}\\cos{3x}}{13}+\\frac{4e^{2x}\\cos{3x}-6e^{2x}\\sin{3x}}{13} = e^{2x}\\cos{3x}$ "
   ]
  },
  {
   "cell_type": "markdown",
   "id": "6ce68461",
   "metadata": {},
   "source": [
    "Ответ:\n",
    "# $\\int e^{2x}\\cos 3x\\,dx=\\frac{3e^{2x}\\sin{3x}}{13}+\\frac{2e^{2x}\\cos{3x}}{13}+C$"
   ]
  },
  {
   "cell_type": "markdown",
   "id": "9c1f7085",
   "metadata": {},
   "source": [
    "__3.__ Вычислить определенный интеграл\n",
    "\n",
    "### $$\\int\\limits_0^{\\ln2} xe^{-x}\\,dx$$"
   ]
  },
  {
   "cell_type": "markdown",
   "id": "b0ad0da2",
   "metadata": {},
   "source": [
    "Решение:\n",
    "# $\\int xe^{-x}\\,dx$"
   ]
  },
  {
   "cell_type": "markdown",
   "id": "7bdbc3fd",
   "metadata": {},
   "source": [
    "# $U=x \\Rightarrow dU=dx$\n",
    "# $dV=e^{-x}\\,dx \\Rightarrow V=-e^{-x}$\n",
    "# $\\int xe^{-x}\\,dx=-x\\cdot e^{-x}-\\int (-e^{--x})\\cdot\\,dx=-xe^{-x}-e^{-x}=-e^{-x}(x+1)+C$"
   ]
  },
  {
   "cell_type": "markdown",
   "id": "50d85080",
   "metadata": {},
   "source": [
    "# $\\int\\limits_0^{\\ln2} xe^{-x}\\,dx = -\\frac{\\ln{2}+1}{2}+1=\\frac{1-\\ln{2}}{2}$"
   ]
  },
  {
   "cell_type": "markdown",
   "id": "69bb0ec6",
   "metadata": {},
   "source": [
    "Ответ:\n",
    "# $\\int\\limits_0^{\\ln2} xe^{-x}\\,dx =\\frac{1-\\ln{2}}{2}$"
   ]
  },
  {
   "cell_type": "markdown",
   "id": "f3cf895d",
   "metadata": {},
   "source": [
    "__4.__ Вычислить несобственный интеграл\n",
    "\n",
    "### $$\\int\\limits_2^{+\\infty} \\frac{dx}{x^2+x-2}$$"
   ]
  },
  {
   "cell_type": "markdown",
   "id": "9a3269fd",
   "metadata": {},
   "source": [
    "# $\\int\\frac{dx}{x^2+x-2} = \\int\\frac{dx}{(x+2)(x-1)}=\\frac{\\ln{|x-1|}}{3}-\\frac{\\ln{|x+2|}}{3}+C$\n",
    "# $\\frac{A}{x+2}+\\frac{B}{x-1}=\\frac{x(A+B)+(2B-A)}{(x+2)(x-1)} \\Rightarrow$\n",
    "# $\\begin{cases}A+B=0 \\\\ 2B-A=1\\end{cases} \\Rightarrow \\begin{cases} A=-\\frac{1}{3} \\\\ B=\\frac{1}{3}\\end{cases}$"
   ]
  },
  {
   "cell_type": "markdown",
   "id": "067b4fca",
   "metadata": {},
   "source": [
    "Проверяем:\n",
    "# $(\\frac{\\ln{|x-1|}}{3})'= \\frac{1}{3(x-1)}$\n",
    "# $(\\frac{\\ln{|x+2|}}{3})'= \\frac{1}{3(x+2)}$\n",
    "# $\\frac{1}{3(x-1)}-\\frac{1}{3(x+2)}=\\frac{x+2-x+1}{3(x-1)(x+2)}=\\frac{1}{(x+2)(x-1)}$ "
   ]
  },
  {
   "cell_type": "markdown",
   "id": "b64fc08c",
   "metadata": {},
   "source": [
    "# $\\int\\limits_2^{+\\infty} \\frac{dx}{x^2+x-2}=\\infty-\\infty - \\frac{ln(1)+ln(4)}{3}=\\frac{ln(4)}{3}$"
   ]
  },
  {
   "cell_type": "markdown",
   "id": "e9c3d2d3",
   "metadata": {},
   "source": [
    "Ответ:\n",
    "# $\\int\\limits_2^{+\\infty} \\frac{dx}{x^2+x-2}=\\frac{ln{4}}{3}$"
   ]
  },
  {
   "cell_type": "markdown",
   "id": "ad5c8686",
   "metadata": {},
   "source": [
    "__5*.__ Вычислить несобственный интеграл\n",
    "\n",
    "### $$\\int\\limits_0^{1} \\ln x\\,dx$$"
   ]
  },
  {
   "cell_type": "markdown",
   "id": "3fd02afd",
   "metadata": {},
   "source": [
    "Решение:\n",
    "# $U=\\ln{x} \\Rightarrow dU=\\frac{1}{x}\\,dx$\n",
    "# $dV=\\,dx \\Rightarrow V=x$"
   ]
  },
  {
   "cell_type": "markdown",
   "id": "e0bcf154",
   "metadata": {},
   "source": [
    "# $\\int \\ln{x}\\,dx=x\\ln{x}-\\int x\\cdot\\frac{1}{x}=x\\ln{x}-x$"
   ]
  },
  {
   "cell_type": "markdown",
   "id": "4afeb5e4",
   "metadata": {},
   "source": [
    "# $\\int\\limits_0^{1} \\ln x\\,dx = 0 - 2 =-1$"
   ]
  },
  {
   "cell_type": "markdown",
   "id": "63e14b5d",
   "metadata": {},
   "source": [
    "Ответ: -1"
   ]
  }
 ],
 "metadata": {
  "kernelspec": {
   "display_name": "Python 3",
   "language": "python",
   "name": "python3"
  },
  "language_info": {
   "codemirror_mode": {
    "name": "ipython",
    "version": 3
   },
   "file_extension": ".py",
   "mimetype": "text/x-python",
   "name": "python",
   "nbconvert_exporter": "python",
   "pygments_lexer": "ipython3",
   "version": "3.8.8"
  }
 },
 "nbformat": 4,
 "nbformat_minor": 5
}
