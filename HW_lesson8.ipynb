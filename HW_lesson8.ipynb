{
 "cells": [
  {
   "cell_type": "markdown",
   "id": "1e7f7f5d",
   "metadata": {},
   "source": [
    "# Введение в математический анализ\n",
    "# GeekBrains\n",
    "## ДЗ Урока 8\n",
    "## Казанцев Виталий"
   ]
  },
  {
   "cell_type": "markdown",
   "id": "72d8af14",
   "metadata": {},
   "source": [
    "__1.__ Исследовать на условный экстремум функцию\n",
    "\n",
    "### $$U=3-8x+6y,$$\n",
    "\n",
    "если\n",
    "\n",
    "### $$x^2+y^2=36$$"
   ]
  },
  {
   "cell_type": "markdown",
   "id": "3ee0aa17",
   "metadata": {},
   "source": [
    "Решение:\n",
    "### $L(x,y,\\lambda)=3-8x+6y+\\lambda\\cdot(x^2+y^2-36)$\n",
    "### $\\begin{cases}L'_x=-8+2x\\lambda \\\\\n",
    "                  L'_y=6+2y\\lambda \\\\\n",
    "                  L'_\\lambda=x^2+y^2-36\\end{cases}$"
   ]
  },
  {
   "cell_type": "markdown",
   "id": "6104139b",
   "metadata": {},
   "source": [
    "### $\\begin{cases}\n",
    "        x=\\frac{4}{\\lambda} \\\\\n",
    "        y=-\\frac{3}{\\lambda} \\\\\n",
    "        \\Bigr(\\frac{4}{\\lambda}\\Bigl)^2+\\Bigr(-\\frac{3}{\\lambda}\\Bigl)^2=36\\end{cases} \\Rightarrow\n",
    "      \\begin{cases}\n",
    "        x=\\frac{4}{\\lambda} \\\\\n",
    "        y=-\\frac{3}{\\lambda} \\\\\n",
    "        \\lambda=\\pm\\frac{5}{6}\\end{cases} \\Rightarrow\n",
    "      \\begin{cases}\n",
    "        x_1=\\frac{24}{5} \\\\\n",
    "        y_1=-\\frac{18}{5} \\\\\n",
    "        \\lambda_1=\\frac{5}{6}\\end{cases} \\;\n",
    "      \\begin{cases}\n",
    "        x_2=-\\frac{24}{5} \\\\\n",
    "        y_2=\\frac{18}{5} \\\\\n",
    "        \\lambda_2=-\\frac{5}{6} \\end{cases}$"
   ]
  },
  {
   "cell_type": "markdown",
   "id": "f49c8103",
   "metadata": {},
   "source": [
    "### $Точка_1(\\frac{24}{\n",
    "5},-\\frac{18}{5}, \\frac{5}{6}); Точка_2(-\\frac{24}{5},\\frac{18}{5}, -\\frac{5}{6})$"
   ]
  },
  {
   "cell_type": "markdown",
   "id": "48be94c7",
   "metadata": {},
   "source": [
    "### $L''_{xx}=2\\lambda$\n",
    "### $L''_{yy}=2\\lambda$\n",
    "### $L''_{\\lambda\\lambda}=0$\n",
    "### $L''_{xy}=L''_{yx}=0$\n",
    "### $L''_{x\\lambda}=L''_{\\lambda x}=2x$\n",
    "### $L''_{y\\lambda}=L''{\\lambda y}=2y$"
   ]
  },
  {
   "cell_type": "markdown",
   "id": "16c63605",
   "metadata": {},
   "source": [
    "### $$\\begin{pmatrix}\n",
    "L''_{\\lambda \\lambda} & L''_{\\lambda x} & L''_{\\lambda y}\\\\ \n",
    "L''_{x \\lambda} & L''_{xx} & L''_{xy}\\\\\n",
    "L''_{y \\lambda} & L''_{yx} & L''_{yy}\\\\\n",
    "\\end{pmatrix}\\Rightarrow\n",
    "\\begin{pmatrix}\n",
    "0 & 2x & 2y\\\\ \n",
    "2x & 2\\lambda & 0\\\\\n",
    "2y & 0 & 2\\lambda\\\\\n",
    "\\end{pmatrix}$$"
   ]
  },
  {
   "cell_type": "markdown",
   "id": "24cd0c63",
   "metadata": {},
   "source": [
    "### $$\\Delta=\\begin{vmatrix}\n",
    "0 & 2x & 2y\\\\ \n",
    "2x & 2\\lambda & 0\\\\\n",
    "2y & 0 & 2\\lambda\\\\\n",
    "\\end{vmatrix}=\n",
    "\\begin{vmatrix}\n",
    "+ & - & +\\\\ \n",
    "- & + & -\\\\\n",
    "+ & - & +\\\\\n",
    "\\end{vmatrix}=0\\cdot\n",
    "\\begin{vmatrix}\n",
    "2\\lambda & 0\\\\\n",
    "0 & 2\\lambda\\\\\n",
    "\\end{vmatrix}-2x\\cdot\n",
    "\\begin{vmatrix}\n",
    "2x & 0\\\\\n",
    "2y & 2\\lambda\\\\\n",
    "\\end{vmatrix}+2y\\cdot\n",
    "\\begin{vmatrix}\n",
    "2x & 2\\lambda\\\\\n",
    "2y & 0\\\\\n",
    "\\end{vmatrix}=(-2x)\\cdot 4x\\lambda+2y \\cdot(-4y\\lambda)=-8\\lambda(x^2+y^2)$$\n",
    "\n",
    "По условию задачи $x^2+y^2=36$, тогда \n",
    "### $$\\Delta=-8\\lambda \\cdot 36 = -288\\lambda$$"
   ]
  },
  {
   "cell_type": "markdown",
   "id": "4f671d2b",
   "metadata": {},
   "source": [
    "Ответ:  \n",
    "Если $\\lambda=\\frac{5}{6}$, то $\\Delta=-240<0$, следовательно $(\\frac{24}{5},-\\frac{18}{5}, \\frac{5}{6})$ - точка минимума.\n",
    "\n",
    "Если $\\lambda=-\\frac{5}{6}$, то $\\Delta=240>0$, следовательно $(-\\frac{24}{5},\\frac{18}{5}, -\\frac{5}{6})$ - точка максимума."
   ]
  },
  {
   "cell_type": "markdown",
   "id": "10803ae2",
   "metadata": {},
   "source": [
    "__2.__ Исследовать на условный экстремум функцию\n",
    "\n",
    "### $$U=2x^2+12xy+32y^2+15,$$\n",
    "\n",
    "если\n",
    "\n",
    "### $$x^2+16y^2=64$$"
   ]
  },
  {
   "cell_type": "markdown",
   "id": "af89036d",
   "metadata": {},
   "source": [
    "Решение:\n",
    "### $U=2x^2+12xy+32y^2+15=2(x^2+16y^2)+12xy+15 \\text{ по условию } x^2+16y^2=64 \\Rightarrow$  \n",
    "### $U=2\\cdot64+12xy+15=12xy+143$\n",
    "### $L(x,y,\\lambda)=12xy+143+\\lambda\\cdot(x^2+16y^2-64)$"
   ]
  },
  {
   "cell_type": "markdown",
   "id": "94b8bf99",
   "metadata": {},
   "source": [
    "### $\\begin{cases}\n",
    "        L'_x=12y+2x\\lambda \\\\\n",
    "        L'_y=12x+32y\\lambda \\\\\n",
    "        L'_\\lambda=x^2+16y^2-64\\end{cases}$"
   ]
  },
  {
   "cell_type": "markdown",
   "id": "91920144",
   "metadata": {},
   "source": [
    "### $\\begin{cases}\n",
    "        x_1=-4\\sqrt{2} \\\\\n",
    "        y_1=-\\sqrt{2} \\\\\n",
    "        \\lambda_1=-\\frac{3}{2}\\end{cases} \\;\n",
    "     \\begin{cases}\n",
    "        x_2=4\\sqrt{2} \\\\\n",
    "        y_2=\\sqrt{2} \\\\\n",
    "        \\lambda_2=-\\frac{3}{2}\\end{cases} \\;\n",
    "     \\begin{cases}\n",
    "        x_3=-4\\sqrt{2} \\\\\n",
    "        y_3=\\sqrt{2} \\\\\n",
    "        \\lambda_3=\\frac{3}{2}\\end{cases} \\;\n",
    "     \\begin{cases}\n",
    "        x_4=4\\sqrt{2} \\\\\n",
    "        y_4=-\\sqrt{2} \\\\\n",
    "        \\lambda_4=\\frac{3}{2}\\end{cases} \\;$"
   ]
  },
  {
   "cell_type": "markdown",
   "id": "13e36d4d",
   "metadata": {},
   "source": [
    "### $Точка_1(-4\\sqrt{2},-\\sqrt{2},-\\frac{3}{2}); Точка_2(4\\sqrt{2},\\sqrt{2},-\\frac{3}{2}); Точка_3(-4\\sqrt{2},\\sqrt{2},\\frac{3}{2}); Точка_4(4\\sqrt{2},-\\sqrt{2},\\frac{3}{2})$"
   ]
  },
  {
   "cell_type": "markdown",
   "id": "5e11097e",
   "metadata": {},
   "source": [
    "### $L''_{xx}=2\\lambda$\n",
    "### $L''_{yy}=32\\lambda$\n",
    "### $L''_{\\lambda\\lambda}=0$\n",
    "### $L''_{xy}=L''{yx}=12$\n",
    "### $L''_{x\\lambda}=L''_{\\lambda x}=2x$\n",
    "### $L''_{y\\lambda}=L''_{\\lambda y}=32y$"
   ]
  },
  {
   "cell_type": "markdown",
   "id": "fbda4380",
   "metadata": {},
   "source": [
    "### $$\\begin{pmatrix}\n",
    "L''_{\\lambda \\lambda} & L''_{\\lambda x} & L''_{\\lambda y}\\\\ \n",
    "L''_{x \\lambda} & L''_{xx} & L''_{xy}\\\\\n",
    "L''_{y \\lambda} & L''_{yx} & L''_{yy}\\\\\n",
    "\\end{pmatrix}\\Rightarrow\n",
    "\\begin{pmatrix}\n",
    "0 & 2x & 32y\\\\ \n",
    "2x & 2\\lambda & 12\\\\\n",
    "32y & 12 & 32\\lambda\\\\\n",
    "\\end{pmatrix}$$"
   ]
  },
  {
   "cell_type": "markdown",
   "id": "1608ba50",
   "metadata": {},
   "source": [
    "### $$\\Delta=\\begin{vmatrix}\n",
    "0 & 2x & 32y\\\\ \n",
    "2x & 2\\lambda & 12\\\\\n",
    "32y & 12 & 32\\lambda\\\\\n",
    "\\end{vmatrix}=\n",
    "\\begin{vmatrix}\n",
    "+ & - & +\\\\ \n",
    "- & + & -\\\\\n",
    "+ & - & +\\\\\n",
    "\\end{vmatrix}=0\\cdot\n",
    "\\begin{vmatrix}\n",
    "2\\lambda & 12\\\\\n",
    "12 & 32\\lambda\\\\\n",
    "\\end{vmatrix}-2x\\cdot\n",
    "\\begin{vmatrix}\n",
    "2x & 12\\\\\n",
    "32y & 32\\lambda\\\\\n",
    "\\end{vmatrix}+32y\\cdot\n",
    "\\begin{vmatrix}\n",
    "2x & 2\\lambda\\\\\n",
    "32y & 12\\\\\n",
    "\\end{vmatrix}=(-2x)\\cdot(64x\\lambda-384y)+32y \\cdot(24x-64y\\lambda)=128(12xy-64\\lambda)$$"
   ]
  },
  {
   "cell_type": "markdown",
   "id": "96ebd04a",
   "metadata": {},
   "source": [
    "### $(-4\\sqrt{2},-\\sqrt{2},-\\frac{3}{2}) \\Rightarrow \\Delta=128(12\\cdot(-4\\sqrt{2})\\cdot(-\\sqrt{2})-64\\cdot(-\\frac{3}{2}))=128(96+96)=24576>0 \\Rightarrow \\text{Точка максимума}$"
   ]
  },
  {
   "cell_type": "markdown",
   "id": "f02618bd",
   "metadata": {},
   "source": [
    "### $(4\\sqrt{2},\\sqrt{2},-\\frac{3}{2}) \\Rightarrow \\Delta=24576>0 \\Rightarrow \\text{Точка максимума}$"
   ]
  },
  {
   "cell_type": "markdown",
   "id": "f10be322",
   "metadata": {},
   "source": [
    "### $(-4\\sqrt{2},\\sqrt{2},\\frac{3}{2}) \\Rightarrow \\Delta=128(12\\cdot(-4\\sqrt{2})\\cdot\\sqrt{2}-64\\cdot\\frac{3}{2})=128(-96-96)=-24576<0 \\Rightarrow \\text{Точка минимума}$"
   ]
  },
  {
   "cell_type": "markdown",
   "id": "45a824cc",
   "metadata": {},
   "source": [
    "### $(4\\sqrt{2},-\\sqrt{2},\\frac{3}{2}) \\Rightarrow \\Delta=-24576>0 \\Rightarrow \\text{Точка минимума}$"
   ]
  },
  {
   "cell_type": "markdown",
   "id": "06ef6859",
   "metadata": {},
   "source": [
    "__3.__ Численно найти хотя бы один действительный корень системы нелинейных уравнений:\n",
    "### $$\\begin{cases}\n",
    "   x^2-y^2+3xy^3-2x^2y^2+2x-3y-5=0 \\\\\\\n",
    "   3y^3-2x^2+2x^3y-5x^2y^2+5=0\n",
    " \\end{cases}$$"
   ]
  },
  {
   "cell_type": "markdown",
   "id": "a416497b",
   "metadata": {},
   "source": [
    "Решение:\n",
    "### $x^2-y^2+3xy^3-2x^2y^2+2x-3y-5-3y^3+2x^2-2x^3y+5x^2y^2-5=$  \n",
    "### $3x^2-y^2+3xy^3+3x^2y^2+2x-3y-3y^3-2x^3y-10$"
   ]
  },
  {
   "cell_type": "code",
   "execution_count": 2,
   "id": "a76d07a0",
   "metadata": {},
   "outputs": [
    {
     "name": "stdout",
     "output_type": "stream",
     "text": [
      "-0.33843719511010956 -1.1685702429504274\n"
     ]
    }
   ],
   "source": [
    "import numpy as np\n",
    "from scipy.optimize import fsolve, broyden2\n",
    "import math\n",
    "\n",
    "import warnings\n",
    "warnings.filterwarnings('ignore')\n",
    "\n",
    "def equations(p):\n",
    "    x, y = p\n",
    "    return ((x**2)-(y**2)+3*x*(y**3)-2*(x**2)*(y**2)+2*x-3*y-5, 3*(y**3)-2*(x**2)+2*(x**3)*y-5*(x**2)*(y**2)+5)\n",
    "\n",
    "x, y =  fsolve(equations, (-300, -300))\n",
    "\n",
    "print (x, y)\n"
   ]
  },
  {
   "cell_type": "code",
   "execution_count": null,
   "id": "60709455",
   "metadata": {},
   "outputs": [],
   "source": []
  }
 ],
 "metadata": {
  "kernelspec": {
   "display_name": "Python 3",
   "language": "python",
   "name": "python3"
  },
  "language_info": {
   "codemirror_mode": {
    "name": "ipython",
    "version": 3
   },
   "file_extension": ".py",
   "mimetype": "text/x-python",
   "name": "python",
   "nbconvert_exporter": "python",
   "pygments_lexer": "ipython3",
   "version": "3.8.8"
  }
 },
 "nbformat": 4,
 "nbformat_minor": 5
}
