{
 "cells": [
  {
   "cell_type": "markdown",
   "id": "76dbc6b3",
   "metadata": {},
   "source": [
    "# Введение в математический анализ\n",
    "# GeekBrains\n",
    "## ДЗ Урока 8\n",
    "## Казанцев Виталий"
   ]
  },
  {
   "cell_type": "markdown",
   "id": "cbda8e09",
   "metadata": {},
   "source": [
    "__1.__ Исследовать на условный экстремум функцию\n",
    "\n",
    "### $$U=3-8x+6y,$$\n",
    "\n",
    "если\n",
    "\n",
    "### $$x^2+y^2=36$$"
   ]
  },
  {
   "cell_type": "markdown",
   "id": "c8ee60b5",
   "metadata": {},
   "source": [
    "Решение:\n",
    "### $L(x,y,\\lambda)=3-8x+6y+\\lambda\\cdot(x^2+y^2-36)$\n",
    "### $\\begin{cases}L'_x=-8+2x\\lambda \\\\\n",
    "                  L'_y=6+2y\\lambda \\\\\n",
    "                  L'_\\lambda=x^2+y^2-36\\end{cases}$"
   ]
  },
  {
   "cell_type": "markdown",
   "id": "452e9296",
   "metadata": {},
   "source": [
    "### $\\begin{cases}\n",
    "        x=\\frac{4}{\\lambda} \\\\\n",
    "        y=-\\frac{3}{\\lambda} \\\\\n",
    "        \\Bigr(\\frac{4}{\\lambda}\\Bigl)^2+\\Bigr(-\\frac{3}{\\lambda}\\Bigl)^2=36\\end{cases} \\Rightarrow\n",
    "      \\begin{cases}\n",
    "        x=\\frac{4}{\\lambda} \\\\\n",
    "        y=-\\frac{3}{\\lambda} \\\\\n",
    "        \\lambda=\\pm\\frac{5}{6}\\end{cases} \\Rightarrow\n",
    "      \\begin{cases}\n",
    "        x_1=\\frac{24}{5} \\\\\n",
    "        y_1=-\\frac{18}{5} \\\\\n",
    "        \\lambda_1=\\frac{5}{6}\\end{cases} \\;\n",
    "      \\begin{cases}\n",
    "        x_2=-\\frac{24}{5} \\\\\n",
    "        y_2=\\frac{18}{5} \\\\\n",
    "        \\lambda_2=-\\frac{5}{6} \\end{cases}$"
   ]
  },
  {
   "cell_type": "markdown",
   "id": "3ae49113",
   "metadata": {},
   "source": [
    "### $Точка_1(\\frac{24}{\n",
    "5},-\\frac{18}{5}, \\frac{5}{6}); Точка_2(-\\frac{24}{5},\\frac{18}{5}, -\\frac{5}{6})$"
   ]
  },
  {
   "cell_type": "markdown",
   "id": "06239e46",
   "metadata": {},
   "source": [
    "### $L''_{xx}=2\\lambda$\n",
    "### $L''_{yy}=2\\lambda$\n",
    "### $L''_{\\lambda\\lambda}=0$\n",
    "### $L''_{xy}=L''_{yx}=0$\n",
    "### $L''_{x\\lambda}=L''_{\\lambda x}=2x$\n",
    "### $L''_{y\\lambda}=L''{\\lambda y}=2y$"
   ]
  },
  {
   "cell_type": "markdown",
   "id": "4c28bdd9",
   "metadata": {},
   "source": [
    "### $$\\begin{pmatrix}\n",
    "L''_{\\lambda \\lambda} & L''_{\\lambda x} & L''_{\\lambda y}\\\\ \n",
    "L''_{x \\lambda} & L''_{xx} & L''_{xy}\\\\\n",
    "L''_{y \\lambda} & L''_{yx} & L''_{yy}\\\\\n",
    "\\end{pmatrix}\\Rightarrow\n",
    "\\begin{pmatrix}\n",
    "0 & 2x & 2y\\\\ \n",
    "2x & 2\\lambda & 0\\\\\n",
    "2y & 0 & 2\\lambda\\\\\n",
    "\\end{pmatrix}$$"
   ]
  },
  {
   "cell_type": "markdown",
   "id": "8c1244b8",
   "metadata": {},
   "source": [
    "### $$\\Delta=\\begin{vmatrix}\n",
    "0 & 2x & 2y\\\\ \n",
    "2x & 2\\lambda & 0\\\\\n",
    "2y & 0 & 2\\lambda\\\\\n",
    "\\end{vmatrix}=\n",
    "\\begin{vmatrix}\n",
    "+ & - & +\\\\ \n",
    "- & + & -\\\\\n",
    "+ & - & +\\\\\n",
    "\\end{vmatrix}=0\\cdot\n",
    "\\begin{vmatrix}\n",
    "2\\lambda & 0\\\\\n",
    "0 & 2\\lambda\\\\\n",
    "\\end{vmatrix}-2x\\cdot\n",
    "\\begin{vmatrix}\n",
    "2x & 0\\\\\n",
    "2y & 2\\lambda\\\\\n",
    "\\end{vmatrix}+2y\\cdot\n",
    "\\begin{vmatrix}\n",
    "2x & 2\\lambda\\\\\n",
    "2y & 0\\\\\n",
    "\\end{vmatrix}=(-2x)\\cdot 4x\\lambda+2y \\cdot(-4y\\lambda)=-8\\lambda(x^2+y^2)$$\n",
    "\n",
    "По условию задачи $x^2+y^2=36$, тогда \n",
    "### $$\\Delta=-8\\lambda \\cdot 36 = -288\\lambda$$"
   ]
  },
  {
   "cell_type": "markdown",
   "id": "7f2fecc4",
   "metadata": {},
   "source": [
    "Ответ:  \n",
    "Если $\\lambda=\\frac{5}{6}$, то $\\Delta=-240<0$, следовательно $(\\frac{24}{5},-\\frac{18}{5}, \\frac{5}{6})$ - точка минимума.\n",
    "\n",
    "Если $\\lambda=-\\frac{5}{6}$, то $\\Delta=240>0$, следовательно $(-\\frac{24}{5},\\frac{18}{5}, -\\frac{5}{6})$ - точка максимума."
   ]
  },
  {
   "cell_type": "markdown",
   "id": "791268f2",
   "metadata": {},
   "source": [
    "__2.__ Исследовать на условный экстремум функцию\n",
    "\n",
    "### $$U=2x^2+12xy+32y^2+15,$$\n",
    "\n",
    "если\n",
    "\n",
    "### $$x^2+16y^2=64$$"
   ]
  },
  {
   "cell_type": "markdown",
   "id": "b4b59d72",
   "metadata": {},
   "source": [
    "Решение:\n",
    "### $U=2x^2+12xy+32y^2+15=2(x^2+16y^2)+12xy+15 \\text{ по условию } x^2+16y^2=64 \\Rightarrow$  \n",
    "### $U=2\\cdot64+12xy+15=12xy+143$\n",
    "### $L(x,y,\\lambda)=12xy+143+\\lambda\\cdot(x^2+16y^2-64)$"
   ]
  },
  {
   "cell_type": "markdown",
   "id": "49c7359e",
   "metadata": {},
   "source": [
    "### $\\begin{cases}\n",
    "        L'_x=12y+2x\\lambda \\\\\n",
    "        L'_y=12x+32y\\lambda \\\\\n",
    "        L'_\\lambda=x^2+16y^2-64\\end{cases}$"
   ]
  },
  {
   "cell_type": "markdown",
   "id": "dfa63064",
   "metadata": {},
   "source": [
    "### $\\begin{cases}\n",
    "        x_1=-4\\sqrt{2} \\\\\n",
    "        y_1=-\\sqrt{2} \\\\\n",
    "        \\lambda_1=-\\frac{3}{2}\\end{cases} \\;\n",
    "     \\begin{cases}\n",
    "        x_2=4\\sqrt{2} \\\\\n",
    "        y_2=\\sqrt{2} \\\\\n",
    "        \\lambda_2=-\\frac{3}{2}\\end{cases} \\;\n",
    "     \\begin{cases}\n",
    "        x_3=-4\\sqrt{2} \\\\\n",
    "        y_3=\\sqrt{2} \\\\\n",
    "        \\lambda_3=\\frac{3}{2}\\end{cases} \\;\n",
    "     \\begin{cases}\n",
    "        x_4=4\\sqrt{2} \\\\\n",
    "        y_4=-\\sqrt{2} \\\\\n",
    "        \\lambda_4=\\frac{3}{2}\\end{cases} \\;$"
   ]
  },
  {
   "cell_type": "markdown",
   "id": "fcfcdcbc",
   "metadata": {},
   "source": [
    "### $Точка_1(-4\\sqrt{2},-\\sqrt{2},-\\frac{3}{2}); Точка_2(4\\sqrt{2},\\sqrt{2},-\\frac{3}{2}); Точка_3(-4\\sqrt{2},\\sqrt{2},\\frac{3}{2}); Точка_4(4\\sqrt{2},-\\sqrt{2},\\frac{3}{2})$"
   ]
  },
  {
   "cell_type": "markdown",
   "id": "33e9a2e9",
   "metadata": {},
   "source": [
    "### $L''_{xx}=2\\lambda$\n",
    "### $L''_{yy}=32\\lambda$\n",
    "### $L''_{\\lambda\\lambda}=0$\n",
    "### $L''_{xy}=L''{yx}=12$\n",
    "### $L''_{x\\lambda}=L''_{\\lambda x}=2x$\n",
    "### $L''_{y\\lambda}=L''_{\\lambda y}=32y$"
   ]
  },
  {
   "cell_type": "markdown",
   "id": "ea16d40a",
   "metadata": {},
   "source": [
    "### $$\\begin{pmatrix}\n",
    "L''_{\\lambda \\lambda} & L''_{\\lambda x} & L''_{\\lambda y}\\\\ \n",
    "L''_{x \\lambda} & L''_{xx} & L''_{xy}\\\\\n",
    "L''_{y \\lambda} & L''_{yx} & L''_{yy}\\\\\n",
    "\\end{pmatrix}\\Rightarrow\n",
    "\\begin{pmatrix}\n",
    "0 & 2x & 32y\\\\ \n",
    "2x & 2\\lambda & 12\\\\\n",
    "32y & 12 & 32\\lambda\\\\\n",
    "\\end{pmatrix}$$"
   ]
  },
  {
   "cell_type": "markdown",
   "id": "94e4f1e6",
   "metadata": {},
   "source": [
    "### $$\\Delta=\\begin{vmatrix}\n",
    "0 & 2x & 32y\\\\ \n",
    "2x & 2\\lambda & 12\\\\\n",
    "32y & 12 & 32\\lambda\\\\\n",
    "\\end{vmatrix}=\n",
    "\\begin{vmatrix}\n",
    "+ & - & +\\\\ \n",
    "- & + & -\\\\\n",
    "+ & - & +\\\\\n",
    "\\end{vmatrix}=0\\cdot\n",
    "\\begin{vmatrix}\n",
    "2\\lambda & 12\\\\\n",
    "12 & 32\\lambda\\\\\n",
    "\\end{vmatrix}-2x\\cdot\n",
    "\\begin{vmatrix}\n",
    "2x & 12\\\\\n",
    "32y & 32\\lambda\\\\\n",
    "\\end{vmatrix}+32y\\cdot\n",
    "\\begin{vmatrix}\n",
    "2x & 2\\lambda\\\\\n",
    "32y & 12\\\\\n",
    "\\end{vmatrix}=(-2x)\\cdot(64x\\lambda-384y)+32y \\cdot(24x-64y\\lambda)=128(12xy-64\\lambda)$$"
   ]
  },
  {
   "cell_type": "markdown",
   "id": "cb6e8f2c",
   "metadata": {},
   "source": [
    "### $(-4\\sqrt{2},-\\sqrt{2},-\\frac{3}{2}) \\Rightarrow \\Delta=128(12\\cdot(-4\\sqrt{2})\\cdot(-\\sqrt{2})-64\\cdot(-\\frac{3}{2}))=128(96+96)=24576>0 \\Rightarrow \\text{Точка максимума}$"
   ]
  },
  {
   "cell_type": "markdown",
   "id": "b57ebbeb",
   "metadata": {},
   "source": [
    "### $(4\\sqrt{2},\\sqrt{2},-\\frac{3}{2}) \\Rightarrow \\Delta=24576>0 \\Rightarrow \\text{Точка максимума}$"
   ]
  },
  {
   "cell_type": "markdown",
   "id": "927639cb",
   "metadata": {},
   "source": [
    "### $(-4\\sqrt{2},\\sqrt{2},\\frac{3}{2}) \\Rightarrow \\Delta=128(12\\cdot(-4\\sqrt{2})\\cdot\\sqrt{2}-64\\cdot\\frac{3}{2})=128(-96-96)=-24576<0 \\Rightarrow \\text{Точка минимума}$"
   ]
  },
  {
   "cell_type": "markdown",
   "id": "072fdf8f",
   "metadata": {},
   "source": [
    "### $(4\\sqrt{2},-\\sqrt{2},\\frac{3}{2}) \\Rightarrow \\Delta=-24576>0 \\Rightarrow \\text{Точка минимума}$"
   ]
  },
  {
   "cell_type": "markdown",
   "id": "0474b4fd",
   "metadata": {},
   "source": [
    "__3.__ Численно найти хотя бы один действительный корень системы нелинейных уравнений:\n",
    "### $$\\begin{cases}\n",
    "   x^2-y^2+3xy^3-2x^2y^2+2x-3y-5=0 \\\\\\\n",
    "   3y^3-2x^2+2x^3y-5x^2y^2+5=0\n",
    " \\end{cases}$$"
   ]
  },
  {
   "cell_type": "markdown",
   "id": "42fc4b81",
   "metadata": {},
   "source": [
    "Решение:\n",
    "### $x^2-y^2+3xy^3-2x^2y^2+2x-3y-5-3y^3+2x^2-2x^3y+5x^2y^2-5=$  \n",
    "### $3x^2-y^2+3xy^3+3x^2y^2+2x-3y-3y^3-2x^3y-10$"
   ]
  },
  {
   "cell_type": "code",
   "execution_count": 1,
   "id": "3b0cb062",
   "metadata": {},
   "outputs": [
    {
     "name": "stdout",
     "output_type": "stream",
     "text": [
      "1.273302064528599 1.6620391224277693\n"
     ]
    }
   ],
   "source": [
    "import numpy as np\n",
    "from scipy.optimize import fsolve, broyden2\n",
    "import math\n",
    "\n",
    "import warnings\n",
    "warnings.filterwarnings('ignore')\n",
    "\n",
    "def equations(p):\n",
    "    x, y = p\n",
    "    return ((x**2)-(y**2)+3*x*(y**3)-2*(x**2)*(y**2)+2*x-3*y-5, 3*(y**3)-2*(x**2)+2*(x**3)*y-5*(x**2)*(y**2)+5)\n",
    "\n",
    "x, y =  fsolve(equations, (10, 10))\n",
    "\n",
    "print (x, y)\n"
   ]
  },
  {
   "cell_type": "code",
   "execution_count": 65,
   "id": "7892e9eb",
   "metadata": {},
   "outputs": [
    {
     "data": {
      "text/plain": [
       "{(-3.65308, -0.274763),\n",
       " (1.273302, 1.662039),\n",
       " (1.375687, -0.174758),\n",
       " (2.217754, 0.610194),\n",
       " (2.494357, 0.708318)}"
      ]
     },
     "execution_count": 65,
     "metadata": {},
     "output_type": "execute_result"
    }
   ],
   "source": [
    "solv = set()\n",
    "for x0 in np.arange(-10, 10):\n",
    "    # x =  fsolve(equations, x0)\n",
    "    # print (float(x))\n",
    "    for y0 in np.arange(-10, 10):\n",
    "        roots, info, ier, mesg =  fsolve(equations, (x0,y0), full_output=True)\n",
    "        if ier == 1:\n",
    "            x = round(roots[0], 6)\n",
    "            y = round(roots[1],6)\n",
    "            root = (x, y)\n",
    "            solv.add(root)\n",
    "solv"
   ]
  }
 ],
 "metadata": {
  "kernelspec": {
   "display_name": "Python 3",
   "language": "python",
   "name": "python3"
  },
  "language_info": {
   "codemirror_mode": {
    "name": "ipython",
    "version": 3
   },
   "file_extension": ".py",
   "mimetype": "text/x-python",
   "name": "python",
   "nbconvert_exporter": "python",
   "pygments_lexer": "ipython3",
   "version": "3.8.8"
  }
 },
 "nbformat": 4,
 "nbformat_minor": 5
}
