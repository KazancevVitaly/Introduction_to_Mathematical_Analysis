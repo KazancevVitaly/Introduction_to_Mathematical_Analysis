{
 "cells": [
  {
   "cell_type": "markdown",
   "id": "e66cebff",
   "metadata": {},
   "source": [
    "# GeekBrains\n",
    "# Введение в математический анализ\n",
    "# ДЗ урока 4\n",
    "## Казанцев Виталий"
   ]
  },
  {
   "cell_type": "markdown",
   "id": "4ab99f40",
   "metadata": {},
   "source": [
    "__1.__ Найти предел функции:\n",
    "\n",
    "### $$а)\\,\\,\\,\\,\\lim_{x\\to 6} \\frac{x^2-36}{x^2-x-30}$$\n",
    "\n",
    "### $$б)\\,\\,\\,\\,\\lim_{x\\to 7} \\frac{x^2-49}{x^2-13x+42}$$\n",
    "\n",
    "### $$в^*)\\,\\,\\,\\,\\lim_{x\\to 7} \\frac{\\sqrt{x+2}-\\sqrt[3]{x+20}}{\\sqrt[4]{x+9}-2}$$\n",
    "\n",
    "### $$г)\\,\\,\\,\\,\\lim_{x\\to 0} \\frac{3x\\,\\mbox{tg}\\,4x}{1-\\cos4x}$$\n",
    "\n",
    "### $$д^{**})\\,\\,\\,\\,\\lim_{x\\to 0} \\frac{\\sqrt2x^2\\sin4x}{(1-\\cos2x)^{\\frac{3}{2}}}$$\n",
    "\n",
    "### $$е)\\,\\,\\,\\,\\lim_{x\\to \\infty} \\Bigr(\\frac{4x}{4x+3}\\Bigl)^\\frac{5x^2}{7x-1}$$\n",
    "\n",
    "### $$ж^*)\\,\\,\\,\\,\\lim_{x\\to +0} \\frac{5^x-1}{x}$$\n",
    "\n",
    "### $$з^*)\\,\\,\\,\\,\\lim_{x\\to +\\infty} \\frac{\\ln(x^2-x+1)}{\\ln(x^{10}+x+1)}$$"
   ]
  },
  {
   "cell_type": "markdown",
   "id": "55ecd196",
   "metadata": {},
   "source": [
    "###  $а)\\lim_{x\\to 6} \\frac{x^2-36}{x^2-x-30} = \\frac{0}{0} = \\lim_{x\\to 6} \\frac{(x-6)(x+6)}{(x-6)(x+5)} = \\frac{(x+6)}{(x+5)} = \\frac{12}{11}$"
   ]
  },
  {
   "cell_type": "markdown",
   "id": "09159934",
   "metadata": {},
   "source": [
    "### $б)\\lim_{x\\to 7} \\frac{x^2-49}{x^2-13x+42} = \\frac{0}{0} = \\lim_{x\\to 7} \\frac{(x-7)(x+7)}{(x-7)(x-6)} = \\frac{(x+7)}{(x-6)} = \\frac{14}{1} = 14$"
   ]
  },
  {
   "cell_type": "markdown",
   "id": "8750f184",
   "metadata": {},
   "source": [
    "### $в^*)\\lim_{x\\to 7} \\frac{\\sqrt{x+2}-\\sqrt[3]{x+20}}{\\sqrt[4]{x+9}-2} = \\frac{0}{0} = \\lim_{x\\to 7} \\frac{\\sqrt{x+2}-\\sqrt[3]{x+20}}{\\sqrt[4]{x+9}-2}\\cdot \\frac{\\sqrt{x+2}+\\sqrt[3]{x+20}}{\\sqrt{x+2}+\\sqrt[3]{x+20}}\\cdot \\frac{\\sqrt[4]{x+9}+2}{\\sqrt[4]{x+9}+2} = \\frac{x+2-\\sqrt[3]{(x+20)^{2}}}{\\sqrt{x+9}-4}\\cdot \\frac{\\sqrt[4]{x+9}+2}{\\sqrt{x+2}+\\sqrt[3]{x+20}}$"
   ]
  },
  {
   "cell_type": "markdown",
   "id": "58ecb88e",
   "metadata": {},
   "source": [
    "### $г)\\lim_{x\\to 0} \\frac{3x\\,\\mbox{tg}\\,4x}{1-\\cos4x}$"
   ]
  }
 ],
 "metadata": {
  "kernelspec": {
   "display_name": "Python 3",
   "language": "python",
   "name": "python3"
  },
  "language_info": {
   "codemirror_mode": {
    "name": "ipython",
    "version": 3
   },
   "file_extension": ".py",
   "mimetype": "text/x-python",
   "name": "python",
   "nbconvert_exporter": "python",
   "pygments_lexer": "ipython3",
   "version": "3.8.8"
  }
 },
 "nbformat": 4,
 "nbformat_minor": 5
}
