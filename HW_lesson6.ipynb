{
 "cells": [
  {
   "cell_type": "markdown",
   "id": "16174824",
   "metadata": {},
   "source": [
    "# Введение в математический анализ\n",
    "## GeekBrains\n",
    "## ДЗ Урока 6. \n",
    "## Казанцев Виталий"
   ]
  },
  {
   "cell_type": "markdown",
   "id": "7a68be58",
   "metadata": {},
   "source": [
    "__1.__ Найти производную $y'_{x}$ функции:\n",
    "\n",
    "### $$\\mbox{arctg}(\\frac{y}{x})=\\ln \\sqrt{x^2+y^2}$$"
   ]
  },
  {
   "cell_type": "markdown",
   "id": "b20e6381",
   "metadata": {},
   "source": [
    "Решение:\n",
    "### $\\mbox{arctg}(\\frac{y}{x})-\\ln \\sqrt{x^2+y^2}=0$\n",
    "### $F'_{x}=\\frac{1}{1+(\\frac{y}{x})^2}\\cdot(-\\frac{y}{x^2})-\\frac{1}{\\sqrt{x^2+y^2}}\\cdot\\frac{1}{2\\sqrt{x^2+y^2}}\\cdot2x=\\frac{-y}{x^{2}(1+(\\frac{y}{x})^2)}-\\frac{2x}{2(x^2+y^2)}=\\frac{-2y-2x}{2x^{2}(1+(\\frac{y}{x})^2)}$"
   ]
  },
  {
   "cell_type": "markdown",
   "id": "9f23eb3d",
   "metadata": {},
   "source": [
    "### $F'_{y}=\\frac{1}{1+(\\frac{y}{x})^2}\\cdot\\frac{1}{x}-\\frac{1}{\\sqrt{x^2+y^2}}\\cdot\\frac{1}{2\\sqrt{x^2+y^2}}\\cdot2y=\\frac{1}{x(1+(\\frac{y}{x})^2)}-\\frac{2y}{2(x^2+y^2)}=\\frac{2x-2y}{2x^2(1+(\\frac{y}{x})^2)}$"
   ]
  },
  {
   "cell_type": "markdown",
   "id": "d1bce2f2",
   "metadata": {},
   "source": [
    "### $y'=-\\frac{F'_{x}}{F'_{y}}=-\\frac{\\frac{-2y-2x}{2x^{2}(1+(\\frac{y}{x})^2)}}{\\frac{2x-2y}{2x^2(1+(\\frac{y}{x})^2)}}=\\frac{x+y}{x-y}$\n"
   ]
  },
  {
   "cell_type": "markdown",
   "id": "a18138d0",
   "metadata": {},
   "source": [
    "Ответ:\n",
    "### $y'=\\frac{x+y}{x-y}$"
   ]
  },
  {
   "cell_type": "markdown",
   "id": "5c668a69",
   "metadata": {},
   "source": [
    "__2.__ Найти производную $y'_{x}$ функции:\n",
    "\n",
    "### \\begin{cases}\n",
    "   y=\\frac{t^2}{t-1}, \\\\\n",
    "   x=\\frac{t}{t^2-1} \n",
    " \\end{cases}"
   ]
  },
  {
   "cell_type": "markdown",
   "id": "473ad1bc",
   "metadata": {},
   "source": [
    "Решение:\n",
    "### $\\begin{cases}\n",
    "   y=\\frac{t^2}{t-1}, \\\\\n",
    "   x=\\frac{t}{t^2-1} \n",
    " \\end{cases}$\n",
    "\n",
    "### $\\begin{cases}\n",
    "        y'=\\frac{t(t-2)}{(t-1)^2},\\\\\n",
    "        x'=\\frac{-t^{2}-1}{(t^2-1)^2}\n",
    "     \\end{cases}$\n",
    "     \n",
    "### $y'=\\frac{y_{t}}{x_{t}}=\\frac{t(t-2)}{(t-1)^2}\\cdot\\frac{(t^2-1)^2}{-t^{2}-1}=-\\frac{t(t-2)(t-1)^2(t+1)^2}{(t-1)^{2}(t^2+1)}=-\\frac{t(t-2)(t+1)^2}{(t^2+1)}$"
   ]
  },
  {
   "cell_type": "markdown",
   "id": "3759bda4",
   "metadata": {},
   "source": [
    "Ответ:\n",
    "### $y'=-\\frac{t(t-2)(t+1)^2}{(t^2+1)}$"
   ]
  },
  {
   "cell_type": "markdown",
   "id": "59fde74d",
   "metadata": {},
   "source": [
    "__3.__ Найти производную с помощью логарифмирования:\n",
    "\n",
    "### $$y=(x^2+2)^5\\cdot(3x-x^3)^3$$"
   ]
  },
  {
   "cell_type": "markdown",
   "id": "36d6c3b1",
   "metadata": {},
   "source": [
    "Решение:\n",
    "### $y'=f(x)\\cdot(\\ln f(x))'=(x^2+2)^5\\cdot(3x-x^3)^3\\cdot((\\ln(x^{2}+2)^5)'+((\\ln(3x-x^3)^3)')=(x^2+2)^5\\cdot(3x-x^3)^3\\cdot(\\frac{5}{x^{2}+2}\\cdot2x+\\frac{3}{3x-x^3}\\cdot(3-3x^2))=(x^2+2)^5\\cdot(3x-x^3)^3\\cdot(\\frac{10x}{x^{2}+2}+\\frac{9(1-x^2)}{3x-x^3})$\n"
   ]
  },
  {
   "cell_type": "markdown",
   "id": "8633ddb8",
   "metadata": {},
   "source": [
    "Ответ:\n",
    "### $y'=(x^2+2)^5\\cdot(3x-x^3)^3\\cdot(\\frac{10x}{x^{2}+2}+\\frac{9(1-x^2)}{3x-x^3})$  "
   ]
  },
  {
   "cell_type": "markdown",
   "id": "8f2022c7",
   "metadata": {},
   "source": [
    "__4.__ Найти производную функции с помощью логарифмирования:\n",
    "\n",
    "### $$y=x^x$$"
   ]
  },
  {
   "cell_type": "markdown",
   "id": "df015740",
   "metadata": {},
   "source": [
    "Решение:\n",
    "### $y'=x^{x}\\cdot(\\ln(x^x))'=x^x\\cdot(x\\ln(x))'=x^x\\cdot(x'\\ln{x} + x\\cdot(\\ln{x})')=x^x(\\ln{x}+1)$"
   ]
  },
  {
   "cell_type": "markdown",
   "id": "46f4ee28",
   "metadata": {},
   "source": [
    "Ответ:\n",
    "### $y'=x^x(\\ln{x}+1)$"
   ]
  },
  {
   "cell_type": "markdown",
   "id": "fad587cf",
   "metadata": {},
   "source": [
    "__5.__ Найти производную функции с помощью логарифмирования:\n",
    "\n",
    "### $$y=\\frac{(2-x^2)^3\\cdot(x-1)^2}{(2x^3-3x)\\cdot e^x}$$"
   ]
  },
  {
   "cell_type": "markdown",
   "id": "a5d2745d",
   "metadata": {},
   "source": [
    "Решениe:\n",
    "### $y'=\\frac{(2-x^2)^3\\cdot(x-1)^2}{(2x^3-3x)\\cdot e^x}\\cdot(\\frac{6x}{2-x^2}+\\frac{2}{x-1}-\\frac{6x^{2}-3}{2x^{3}-3x}-1)$"
   ]
  },
  {
   "cell_type": "markdown",
   "id": "1553114a",
   "metadata": {},
   "source": [
    "__7.__ Найти длину $𝑥$ и ширину $𝑦$ прямоугольника при заданном периметре $𝑃=144$ cм, при которых данный прямоугольник имеет наибольшую площадь $𝑆$."
   ]
  },
  {
   "cell_type": "markdown",
   "id": "02ba63ee",
   "metadata": {},
   "source": [
    "Решение:\n",
    "### $\\begin{cases}\n",
    "         P=2(x+y),\\\\\n",
    "         S=xy\n",
    "     \\end{cases} \\rightarrow S=\\frac{Px}{2}-x^2$\n",
    "### $S'=\\frac{P}{2}-2x$\n",
    "### $\\frac{P}{2}-2x=0$\n",
    "### $x=\\frac{P}{4} \\text{ - это точка max для функции}$  $\\frac{Px}{2}-x^2 \\text{ т.е. для максимальной площади прямоугольник должен быть квадратом, т.е. x должно быть равным y}$\n",
    "В нашем случае:\n",
    "### $x=y=144/4=36$"
   ]
  },
  {
   "cell_type": "markdown",
   "id": "80c23a32",
   "metadata": {},
   "source": [
    "Ответ:\n",
    "### $x=y=36$"
   ]
  }
 ],
 "metadata": {
  "kernelspec": {
   "display_name": "Python 3",
   "language": "python",
   "name": "python3"
  },
  "language_info": {
   "codemirror_mode": {
    "name": "ipython",
    "version": 3
   },
   "file_extension": ".py",
   "mimetype": "text/x-python",
   "name": "python",
   "nbconvert_exporter": "python",
   "pygments_lexer": "ipython3",
   "version": "3.8.8"
  }
 },
 "nbformat": 4,
 "nbformat_minor": 5
}
