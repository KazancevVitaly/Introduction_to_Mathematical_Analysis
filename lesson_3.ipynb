{
 "cells": [
  {
   "cell_type": "markdown",
   "id": "e150ebb0",
   "metadata": {},
   "source": [
    "# Введение в математический анализ\n",
    "# ДЗ Урока 3\n",
    "## Казанцев Виталий"
   ]
  },
  {
   "cell_type": "markdown",
   "id": "1b433705",
   "metadata": {},
   "source": [
    "__1.__ Найти предел последовательности:\n",
    "\n",
    "### $$а)\\,\\,\\,\\,\\lim_{n\\to \\infty} \\frac{(23-2n^2)(3n^2+17)^2}{4n^6+n-1}$$\n",
    "\n",
    "### $$б)\\,\\,\\,\\,\\lim_{n\\to \\infty} \\frac{(97-2n)^3}{2n(3n^2+15)+8n}$$\n",
    "\n",
    "### $$в)\\,\\,\\,\\,\\lim_{n\\to \\infty} \\frac{2n^3+13n(n+18)}{(27-n)(2n+19)^2}$$\n",
    "\n",
    "### $$г)\\,\\,\\,\\,\\lim_{n\\to \\infty} (\\sqrt{n^2+1}-n)$$\n",
    "\n",
    "### $$д)\\,\\,\\,\\,\\lim_{n\\to \\infty} \\frac{(-4)^n+5\\cdot7^n}{(-4)^{n-1}+7^{n+2}}$$\n",
    "\n",
    "### $$e)^*\\,\\,\\,\\,\\lim_{n\\to \\infty} \\Bigl(\\frac{1}{1\\cdot2}+\\frac{1}{2\\cdot3}+\\frac{1}{3\\cdot4}+...+\\frac{1}{(n-1)\\cdot n}\\Bigr)$$"
   ]
  },
  {
   "cell_type": "markdown",
   "id": "3355e2e7",
   "metadata": {},
   "source": [
    "$а)\\,\\,\\,\\,\\lim_{n\\to \\infty} \\frac{(23-2n^2)(3n^2+17)^2}{4n^6+n-1} = \\frac{\\infty}{\\infty} = \\frac{-18}{4} = - 4.5$  \n",
    "если максимальная степень числителя равна максимальной степени знаменателя, то предел равен коэффициентам при этих степенях. В данном примере максимальная степень числителя равна 6, коэффициент при которой равен -18, максимальная степень знаменателя также равна 6 с коэффициентом при этой степени равным 4, значит предел равен -18/4 и равен 4.5\n",
    "\n",
    "Ответ: $\\lim_{n\\to \\infty} \\frac{(23-2n^2)(3n^2+17)^2}{4n^6+n-1} = -4.5$"
   ]
  },
  {
   "cell_type": "markdown",
   "id": "f770932f",
   "metadata": {},
   "source": [
    "$б)\\,\\,\\,\\,\\lim_{n\\to \\infty} \\frac{(97-2n)^3}{2n(3n^2+15)+8n} = \\frac{\\infty}{\\infty} = \\frac{(-2n)^3}{(6n)^3} = \\frac{-8}{216} = -\\frac{1}{27}$\n",
    "  \n",
    "Ответ: $-\\frac{1}{27}$"
   ]
  },
  {
   "cell_type": "markdown",
   "id": "de36437e",
   "metadata": {},
   "source": [
    "$в)\\,\\,\\,\\,\\lim_{n\\to \\infty} \\frac{2n^3+13n(n+18)}{(27-n)(2n+19)^2} = \\frac{\\infty}{\\infty} = \\frac{2n^3}{-n(2n)^2} = \\frac{2n^3}{-4n^3} = -\\frac{1}{2}$  \n",
    "Ответ: $-\\frac{1}{2}$"
   ]
  },
  {
   "cell_type": "markdown",
   "id": "2974b8f7",
   "metadata": {},
   "source": [
    "$г)\\,\\,\\,\\,\\lim_{n\\to \\infty} (\\sqrt{n^2+1}-n) = \\infty-\\infty = \\lim_{n\\to \\infty} (\\sqrt{n^2+1}-n) \\cdot \\frac{\\sqrt{n^2+1}+ n}{\\sqrt{n^2+1}+n} = \\frac{(\\sqrt{n^2+1})^2 - n^2}{\\sqrt{n^2+1}+n} = \\frac{1}{\\infty}=0$  \n",
    "Ответ: 0"
   ]
  },
  {
   "cell_type": "markdown",
   "id": "285817de",
   "metadata": {},
   "source": [
    "$д)\\,\\,\\,\\,\\lim_{n\\to \\infty} \\frac{(-4)^n+5\\cdot7^n}{(-4)^{n-1}+7^{n+2}}=\\frac{\\infty}{\\infty}=\\lim_{n\\to \\infty}\\frac{7^n((-\\frac{4}{7})^n+5)}{7^n((-\\frac{1}{4})\\cdot (-\\frac{4}{7})^n + 7^2)} = \\frac{5}{49}$\n",
    "\n",
    "Ответ: $\\frac{5}{49}$ "
   ]
  },
  {
   "cell_type": "markdown",
   "id": "c5ebb8fe",
   "metadata": {},
   "source": [
    "$e)^*\\,\\,\\,\\,\\lim_{n\\to \\infty} \\Bigl(\\frac{1}{1\\cdot2}+\\frac{1}{2\\cdot3}+\\frac{1}{3\\cdot4}+...+\\frac{1}{(n-1)\\cdot n}\\Bigr)$  \n",
    "Мне кажется, что здесь ошибка в формуле, т.к. при n=1 мы получим 0 в знаменателе, т.е. $\\frac{1}{(n-1)\\cdot n}  \\text{ при n = 1 будет равно } \\frac{1}{0} \\text{, что не имеет смысла}$  \n",
    "Скорее всего имелось ввиду:  \n",
    "$\\lim_{n\\to \\infty} \\Bigl(\\frac{1}{1\\cdot2}+\\frac{1}{2\\cdot3}+\\frac{1}{3\\cdot4}+...+\\frac{1}{(n+1)\\cdot n}\\Bigr)$  \n",
    "Тогда $\\lim_{n\\to \\infty} \\Bigl(\\frac{1}{1\\cdot2}+\\frac{1}{2\\cdot3}+\\frac{1}{3\\cdot4}+...+\\frac{1}{(n+1)\\cdot n}\\Bigr) = \\frac{\\infty}{\\infty} = 1$"
   ]
  },
  {
   "cell_type": "code",
   "execution_count": null,
   "id": "57c12c61",
   "metadata": {},
   "outputs": [],
   "source": [
    "n = 10000000000000\n",
    "a = 0\n",
    "for i in range(1, n+1, 1):\n",
    "    a += 1/(i*(i + 1))\n",
    "print(a)"
   ]
  },
  {
   "cell_type": "markdown",
   "id": "d9a679d1",
   "metadata": {},
   "source": [
    "2. Представьте 1 в виде суммы трех обыкновенных дробей с разными знаменателями и числителем равным 1.\n"
   ]
  },
  {
   "cell_type": "markdown",
   "id": "3b109348",
   "metadata": {},
   "source": [
    "$1 = \\frac{2}{6} + \\frac{3}{6} + \\frac{1}{6} = \\frac{1}{3} + \\frac{1}{2} + \\frac{1}{6}$"
   ]
  },
  {
   "cell_type": "markdown",
   "id": "de801ddb",
   "metadata": {},
   "source": [
    "__3$^*$.__ Тоже задание, только в виде суммы шести дробей."
   ]
  },
  {
   "cell_type": "markdown",
   "id": "52073a54",
   "metadata": {},
   "source": [
    "$1 = \\frac{8}{24} + \\frac{4}{24} + \\frac{6}{24} + \\frac{2}{24} + \\frac{1}{24} + \\frac{3}{24} = \\frac{1}{3} + \\frac{1}{6} + \\frac{1}{4} + \\frac{1}{12} + \\frac{1}{24} + \\frac{1}{8}$"
   ]
  },
  {
   "cell_type": "markdown",
   "id": "ac857d00",
   "metadata": {},
   "source": [
    "__4.__ Пользуясь критерием Коши, докажите сходимость последовательности:\n",
    "\n",
    "### $$a_n=\\frac{\\sin1}{2}+\\frac{\\sin2}{2^2}+\\frac{\\sin3}{2^3}+..\\frac{\\sin n}{2^n}\\,\\,\\,\\,\\,\\Rightarrow$$\n",
    "\n",
    "### $$\\Bigl\\{a_n\\Bigr\\}_{n=1}^\\infty=\\Bigl\\{\\frac{\\sin1}{2}, \\frac{\\sin1}{2}+\\frac{\\sin2}{2^2}, ..., a_n,...\\Bigr\\}$$\n",
    "\n",
    "\n",
    "$^*$ Какой член последовательности можно взять в качестве предела с точностью $\\varepsilon=10^{-7}$?"
   ]
  },
  {
   "cell_type": "code",
   "execution_count": null,
   "id": "da2a6dbf",
   "metadata": {},
   "outputs": [],
   "source": []
  }
 ],
 "metadata": {
  "kernelspec": {
   "display_name": "Python 3",
   "language": "python",
   "name": "python3"
  },
  "language_info": {
   "codemirror_mode": {
    "name": "ipython",
    "version": 3
   },
   "file_extension": ".py",
   "mimetype": "text/x-python",
   "name": "python",
   "nbconvert_exporter": "python",
   "pygments_lexer": "ipython3",
   "version": "3.8.8"
  }
 },
 "nbformat": 4,
 "nbformat_minor": 5
}
