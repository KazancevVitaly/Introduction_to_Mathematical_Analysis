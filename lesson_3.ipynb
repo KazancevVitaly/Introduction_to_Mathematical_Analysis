{
 "cells": [
  {
   "cell_type": "markdown",
   "id": "5dc7e5a0",
   "metadata": {},
   "source": [
    "# Введение в математический анализ\n",
    "# ДЗ Урока 3\n",
    "## Казанцев Виталий"
   ]
  },
  {
   "cell_type": "markdown",
   "id": "ff9608f9",
   "metadata": {},
   "source": [
    "__1.__ Найти предел последовательности:\n",
    "\n",
    "### $$а)\\,\\,\\,\\,\\lim_{n\\to \\infty} \\frac{(23-2n^2)(3n^2+17)^2}{4n^6+n-1}$$\n",
    "\n",
    "### $$б)\\,\\,\\,\\,\\lim_{n\\to \\infty} \\frac{(97-2n)^3}{2n(3n^2+15)+8n}$$\n",
    "\n",
    "### $$в)\\,\\,\\,\\,\\lim_{n\\to \\infty} \\frac{2n^3+13n(n+18)}{(27-n)(2n+19)^2}$$\n",
    "\n",
    "### $$г)\\,\\,\\,\\,\\lim_{n\\to \\infty} (\\sqrt{n^2+1}-n)$$\n",
    "\n",
    "### $$д)\\,\\,\\,\\,\\lim_{n\\to \\infty} \\frac{(-4)^n+5\\cdot7^n}{(-4)^{n-1}+7^{n+2}}$$\n",
    "\n",
    "### $$e)^*\\,\\,\\,\\,\\lim_{n\\to \\infty} \\Bigl(\\frac{1}{1\\cdot2}+\\frac{1}{2\\cdot3}+\\frac{1}{3\\cdot4}+...+\\frac{1}{(n-1)\\cdot n}\\Bigr)$$"
   ]
  },
  {
   "cell_type": "markdown",
   "id": "5177f142",
   "metadata": {},
   "source": [
    "$а)\\,\\,\\,\\,\\lim_{n\\to \\infty} \\frac{(23-2n^2)(3n^2+17)^2}{4n^6+n-1} = \\frac{\\infty}{\\infty} = \\frac{-18}{4} = - 4.5$  \n",
    "если максимальная степень числителя равна максимальной степени знаменателя, то предел равен коэффициентам при этих степенях. В данном примере максимальная степень числителя равна 6, коэффициент при которой равен -18, максимальная степень знаменателя также равна 6 с коэффициентом при этой степени равным 4, значит предел равен -18/4 и равен 4.5\n",
    "\n",
    "Ответ: $\\lim_{n\\to \\infty} \\frac{(23-2n^2)(3n^2+17)^2}{4n^6+n-1} = -4.5$"
   ]
  },
  {
   "cell_type": "markdown",
   "id": "95aff2c2",
   "metadata": {},
   "source": [
    "$б)\\,\\,\\,\\,\\lim_{n\\to \\infty} \\frac{(97-2n)^3}{2n(3n^2+15)+8n} = \\frac{\\infty}{\\infty} = \\frac{(-2n)^3}{(6n)^3} = \\frac{-8}{216} = -\\frac{1}{27}$\n",
    "  \n",
    "Ответ: $-\\frac{1}{27}$"
   ]
  },
  {
   "cell_type": "markdown",
   "id": "86eba509",
   "metadata": {},
   "source": [
    "$в)\\,\\,\\,\\,\\lim_{n\\to \\infty} \\frac{2n^3+13n(n+18)}{(27-n)(2n+19)^2} = \\frac{\\infty}{\\infty} = \\frac{2n^3}{-n(2n)^2} = \\frac{2n^3}{-4n^3} = -\\frac{1}{2}$  \n",
    "Ответ: $-\\frac{1}{2}$"
   ]
  },
  {
   "cell_type": "markdown",
   "id": "db27c19c",
   "metadata": {},
   "source": [
    "$г)\\,\\,\\,\\,\\lim_{n\\to \\infty} (\\sqrt{n^2+1}-n) = \\infty-\\infty = \\lim_{n\\to \\infty} (\\sqrt{n^2+1}-n) \\cdot \\frac{\\sqrt{n^2+1}+ n}{\\sqrt{n^2+1}+n} = \\frac{(\\sqrt{n^2+1})^2 - n^2}{\\sqrt{n^2+1}+n} = \\frac{1}{\\infty}=0$  \n",
    "Ответ: 0"
   ]
  },
  {
   "cell_type": "markdown",
   "id": "f4f18258",
   "metadata": {},
   "source": [
    "$д)\\,\\,\\,\\,\\lim_{n\\to \\infty} \\frac{(-4)^n+5\\cdot7^n}{(-4)^{n-1}+7^{n+2}}=\\frac{\\infty}{\\infty}=\\lim_{n\\to \\infty}\\frac{7^n((-\\frac{4}{7})^n+5)}{7^n((-\\frac{1}{4})\\cdot (-\\frac{4}{7})^n + 7^2)} = \\frac{5}{49}$\n",
    "\n",
    "Ответ: $\\frac{5}{49}$ "
   ]
  },
  {
   "cell_type": "markdown",
   "id": "7e040fe4",
   "metadata": {},
   "source": [
    "$e)^*\\,\\,\\,\\,\\lim_{n\\to \\infty} \\Bigl(\\frac{1}{1\\cdot2}+\\frac{1}{2\\cdot3}+\\frac{1}{3\\cdot4}+...+\\frac{1}{(n-1)\\cdot n}\\Bigr)$  \n",
    "Мне кажется, что здесь ошибка в формуле, т.к. при n=1 мы получим 0 в знаменателе, т.е. $\\frac{1}{(n-1)\\cdot n}  \\text{ при n = 1 будет равно } \\frac{1}{0} \\text{, что не имеет смысла}$  \n",
    "Скорее всего имелось ввиду:  \n",
    "$\\lim_{n\\to \\infty} \\Bigl(\\frac{1}{1\\cdot2}+\\frac{1}{2\\cdot3}+\\frac{1}{3\\cdot4}+...+\\frac{1}{(n+1)\\cdot n}\\Bigr)$  \n",
    "Тогда $\\lim_{n\\to \\infty} \\Bigl(\\frac{1}{1\\cdot2}+\\frac{1}{2\\cdot3}+\\frac{1}{3\\cdot4}+...+\\frac{1}{(n+1)\\cdot n}\\Bigr) = \\frac{\\infty}{\\infty}=1$"
   ]
  },
  {
   "cell_type": "markdown",
   "id": "c589556e",
   "metadata": {},
   "source": [
    "2. Представьте 1 в виде суммы трех обыкновенных дробей с разными знаменателями и числителем равным 1.\n"
   ]
  },
  {
   "cell_type": "markdown",
   "id": "805b63a6",
   "metadata": {},
   "source": [
    "$1 = \\frac{2}{6} + \\frac{3}{6} + \\frac{1}{6} = \\frac{1}{3} + \\frac{1}{2} + \\frac{1}{6}$"
   ]
  },
  {
   "cell_type": "markdown",
   "id": "7dbe6ed5",
   "metadata": {},
   "source": [
    "__3$^*$.__ Тоже задание, только в виде суммы шести дробей."
   ]
  },
  {
   "cell_type": "markdown",
   "id": "3979b5d7",
   "metadata": {},
   "source": [
    "$1 = \\frac{8}{24} + \\frac{4}{24} + \\frac{6}{24} + \\frac{2}{24} + \\frac{1}{24} + \\frac{3}{24} = \\frac{1}{3} + \\frac{1}{6} + \\frac{1}{4} + \\frac{1}{12} + \\frac{1}{24} + \\frac{1}{8}$"
   ]
  },
  {
   "cell_type": "markdown",
   "id": "e846a8e6",
   "metadata": {},
   "source": [
    "__4.__ Пользуясь критерием Коши, докажите сходимость последовательности:\n",
    "\n",
    "### $$a_n=\\frac{\\sin1}{2}+\\frac{\\sin2}{2^2}+\\frac{\\sin3}{2^3}+..\\frac{\\sin n}{2^n}\\,\\,\\,\\,\\,\\Rightarrow$$\n",
    "\n",
    "### $$\\Bigl\\{a_n\\Bigr\\}_{n=1}^\\infty=\\Bigl\\{\\frac{\\sin1}{2}, \\frac{\\sin1}{2}+\\frac{\\sin2}{2^2}, ..., a_n,...\\Bigr\\}$$\n",
    "\n",
    "\n",
    "$^*$ Какой член последовательности можно взять в качестве предела с точностью $\\varepsilon=10^{-7}$?"
   ]
  },
  {
   "cell_type": "markdown",
   "id": "8810fdb1",
   "metadata": {},
   "source": [
    "### $|a_n-a_{n+k}| < \\varepsilon$  \n",
    "### $|(\\frac{\\sin1}{2}+\\frac{\\sin2}{2^2}+\\frac{\\sin3}{2^3}+..\\frac{\\sin n}{2^n}) - (\\frac{\\sin1}{2}+\\frac{\\sin2}{2^2}+\\frac{\\sin3}{2^3}+..\\frac{\\sin{n+k}}{2^{n+k}})| = |\\frac{\\sin n}{2^n}-\\frac{\\sin{n+k}}{2^{n+k}}| < \\frac{1}{2^{N_(\\varepsilon)}} = \\varepsilon$\n",
    "### $\\frac{1}{2^{N_(\\varepsilon)}} = \\varepsilon \\Rightarrow 2^{N_(\\varepsilon)} = \\frac{1}{\\varepsilon} \\Rightarrow N_(\\varepsilon) = -\\log_2\\varepsilon$"
   ]
  },
  {
   "cell_type": "code",
   "execution_count": 58,
   "id": "308480c4",
   "metadata": {},
   "outputs": [
    {
     "name": "stdout",
     "output_type": "stream",
     "text": [
      "True\n",
      "Значение предела -5.3976676583684915e-08\n",
      "Номер члена последовательности, взятого в качестве предела 24\n"
     ]
    },
    {
     "data": {
      "text/plain": [
       "1.1640506099295653e-10"
      ]
     },
     "execution_count": 58,
     "metadata": {},
     "output_type": "execute_result"
    }
   ],
   "source": [
    "import math\n",
    "eps = 0.0000001\n",
    "N = -math.log2(eps)\n",
    "n = int(N+1)\n",
    "a = math.sin(n)/2**n\n",
    "m = n + 9\n",
    "a_2 = math.sin(m)/2**m\n",
    "print(abs(a - a_2) < eps)\n",
    "print(\n",
    "    f'Значение предела {a}\\n'\n",
    "    f'Номер члена последовательности, взятого в качестве предела {n}'\n",
    ")\n",
    "a_2"
   ]
  }
 ],
 "metadata": {
  "kernelspec": {
   "display_name": "Python 3",
   "language": "python",
   "name": "python3"
  },
  "language_info": {
   "codemirror_mode": {
    "name": "ipython",
    "version": 3
   },
   "file_extension": ".py",
   "mimetype": "text/x-python",
   "name": "python",
   "nbconvert_exporter": "python",
   "pygments_lexer": "ipython3",
   "version": "3.8.8"
  }
 },
 "nbformat": 4,
 "nbformat_minor": 5
}
