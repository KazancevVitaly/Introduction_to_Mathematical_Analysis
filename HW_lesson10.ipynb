{
 "cells": [
  {
   "cell_type": "markdown",
   "id": "5de4acfd",
   "metadata": {},
   "source": [
    "# Введение в математический анализ\n",
    "# GeekBrains\n",
    "##  ДЗ Урока 10\n",
    "## Казанцев Виталий"
   ]
  },
  {
   "cell_type": "markdown",
   "id": "4f91cf6c",
   "metadata": {},
   "source": [
    "__1.__ Исследовать сходимость ряда. \n",
    "\n",
    "\n",
    "### $$\\frac{1}{2\\sqrt2}+\\frac{1}{3\\sqrt3}+\\,...\\,+\\frac{1}{(n+1)\\sqrt{n+1}}+\\,...\\,=\\sum\\limits_{n=1}^{+\\infty}\\frac{1}{(n+1)\\sqrt{n+1}}$$\n",
    "\n",
    "(*) Двумя различными признаками."
   ]
  },
  {
   "cell_type": "markdown",
   "id": "a4ee2ad8",
   "metadata": {},
   "source": [
    "Решение:\n",
    "### $\\sum\\limits_{n=1}^{+\\infty}\\frac{1}{(n+1)\\sqrt{n+1}}=\\frac{1}{(n+1)^1\\cdot(n+1)^{\\frac{1}{2}}}=\\frac{1}{(n+1)^{\\frac{3}{2}}} ~ O\\Bigl(\\frac{1}{n^{\\frac{3}{2}}}\\Bigr)$\n",
    "### $\\frac{3}{2}>1 \\Rightarrow \\text{ По второму признаку ряд сходится}$"
   ]
  },
  {
   "cell_type": "markdown",
   "id": "39c25116",
   "metadata": {},
   "source": [
    "### $a_{n}=\\frac{1}{(n+1)\\sqrt{n+1}}$\n",
    "### $a_{n+1}=\\frac{1}{(n+2)\\sqrt{n+2}}$\n",
    "### $\\lim\\limits_{n\\to+\\infty}\\frac{a_{n+1}}{a_{n}}=\\frac{1}{(n+2)\\sqrt{n+2}}:\\frac{1}{(n+1)\\sqrt{n+1}}=\\frac{(n+1)\\sqrt{n+1}}{(n+2)\\sqrt{n+2}} = 1 \\Rightarrow \\text{ Признак д'Аламбера не работает}$"
   ]
  },
  {
   "cell_type": "markdown",
   "id": "a7dbfe58",
   "metadata": {},
   "source": [
    "### $\\lim\\limits_{n\\to+\\infty}(\\frac{a_{n}}{a_{n+1}}-1)\\cdot n=(\\frac{(n+2)\\sqrt{n+2}}{(n+1)\\sqrt{n+1}}-1)\\cdot n=\\frac{3}{2} >1 \\Rightarrow \\text{ по признаку Раабе ряд сходится}$"
   ]
  },
  {
   "cell_type": "markdown",
   "id": "2b6a6682",
   "metadata": {},
   "source": [
    "Ответ: \n",
    "### $\\text{ряд }\\frac{1}{2\\sqrt2}+\\frac{1}{3\\sqrt3}+\\,...\\,+\\frac{1}{(n+1)\\sqrt{n+1}}+\\,...\\,=\\sum\\limits_{n=1}^{+\\infty}\\frac{1}{(n+1)\\sqrt{n+1}}\\text{ сходится}$\n",
    "### $\\approx1.612375$"
   ]
  },
  {
   "cell_type": "markdown",
   "id": "38528dfd",
   "metadata": {},
   "source": [
    "__2.__ Исследовать сходимость ряда\n",
    "\n",
    "### $$\\frac{1000}{1!}+\\frac{1000^2}{2!}+\\,...\\,+\\frac{1000^n}{n!}+\\,...\\,=\\sum\\limits_{n=1}^{+\\infty}\\frac{1000^n}{n!}$$"
   ]
  },
  {
   "cell_type": "markdown",
   "id": "1ada71f3",
   "metadata": {},
   "source": [
    "Решение:\n",
    "### $a_{n}=\\frac{1000^n}{n!}$\n",
    "### $a_{n+1}=\\frac{1000^{n+1}}{(n+1)!}$"
   ]
  },
  {
   "cell_type": "markdown",
   "id": "827631f9",
   "metadata": {},
   "source": [
    "### $\\lim\\limits_{n\\to+\\infty}\\frac{a_{n+1}}{a_{n}}=\\frac{1000^{n+1}}{(n+1)!}:\\frac{1000^n}{n!}=\\frac{1000^{n+1}}{(n+1)!}\\cdot\\frac{n!}{1000^n}=\\frac{1000}{n+1}=\\frac{1000}{\\infty}=0<1\\Rightarrow\\text{ по признаку д'Аламбера ряд сходится}$"
   ]
  },
  {
   "cell_type": "markdown",
   "id": "c1418e5b",
   "metadata": {},
   "source": [
    " Ответ:\n",
    "### $\\text{ряд }\\frac{1000}{1!}+\\frac{1000^2}{2!}+\\,...\\,+\\frac{1000^n}{n!}+\\,...\\,=\\sum\\limits_{n=1}^{+\\infty}\\frac{1000^n}{n!}\\text{ сходится}$\n",
    "### $-1+e^{1000}$"
   ]
  },
  {
   "cell_type": "markdown",
   "id": "bfd82a6b",
   "metadata": {},
   "source": [
    "__3*.__ Исследовать сходимость ряда\n",
    "\n",
    "### $$\\frac{2\\cdot1!}{1}+\\frac{2^2\\cdot2!}{2^2}+\\,...\\,+\\frac{2^n\\cdot n!}{n^n}+\\,...\\,=\\sum\\limits_{n=1}^{+\\infty}\\frac{2^n\\cdot n!}{n^n}$$"
   ]
  },
  {
   "cell_type": "markdown",
   "id": "43df3749",
   "metadata": {},
   "source": [
    "Решение:\n",
    "### $a_{n}=\\frac{2^n\\cdot n!}{n^n}$\n",
    "### $a_{n+1}=\\frac{2^{n+1}\\cdot(n+1)!}{(n+1)^{n+1}}$"
   ]
  },
  {
   "cell_type": "markdown",
   "id": "5222f2a6",
   "metadata": {},
   "source": [
    "### $\\lim\\limits_{n\\to+\\infty}\\frac{a_{n+1}}{a_{n}}=\\frac{2^{n+1}\\cdot(n+1)!}{(n+1)^{n+1}}:\\frac{2^n\\cdot n!}{n^n}=\\frac{2^{n+1}\\cdot(n+1)!}{(n+1)^{n+1}}\\cdot\\frac{n^n}{2^n\\cdot n!}=\\frac{2(n+1)n^n\\cdot n!}{(n+1)^{n+1}\\cdot n!} =\\frac{2n^n}{(n+1)^n}=\\frac{2}{e} < 1 \\Rightarrow \\text{ ряд сходится}$"
   ]
  },
  {
   "cell_type": "code",
   "execution_count": null,
   "id": "fd2280c6",
   "metadata": {},
   "outputs": [],
   "source": []
  }
 ],
 "metadata": {
  "kernelspec": {
   "display_name": "Python 3",
   "language": "python",
   "name": "python3"
  },
  "language_info": {
   "codemirror_mode": {
    "name": "ipython",
    "version": 3
   },
   "file_extension": ".py",
   "mimetype": "text/x-python",
   "name": "python",
   "nbconvert_exporter": "python",
   "pygments_lexer": "ipython3",
   "version": "3.8.8"
  }
 },
 "nbformat": 4,
 "nbformat_minor": 5
}
