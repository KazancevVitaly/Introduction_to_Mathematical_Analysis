{
 "cells": [
  {
   "cell_type": "markdown",
   "id": "b4c8eb06",
   "metadata": {},
   "source": [
    "# Введение в математический анализ\n",
    "# GeekBrains\n",
    "##  ДЗ Урока 10\n",
    "## Казанцев Виталий"
   ]
  },
  {
   "cell_type": "markdown",
   "id": "8349aceb",
   "metadata": {},
   "source": [
    "__1.__ Исследовать сходимость ряда. \n",
    "\n",
    "\n",
    "### $$\\frac{1}{2\\sqrt2}+\\frac{1}{3\\sqrt3}+\\,...\\,+\\frac{1}{(n+1)\\sqrt{n+1}}+\\,...\\,=\\sum\\limits_{n=1}^{+\\infty}\\frac{1}{(n+1)\\sqrt{n+1}}$$\n",
    "\n",
    "(*) Двумя различными признаками."
   ]
  },
  {
   "cell_type": "markdown",
   "id": "3bd15145",
   "metadata": {},
   "source": [
    "Решение:\n",
    "### $\\sum\\limits_{n=1}^{+\\infty}\\frac{1}{(n+1)\\sqrt{n+1}}=\\frac{1}{(n+1)^1\\cdot(n+1)^{\\frac{1}{2}}}=\\frac{1}{(n+1)^{\\frac{3}{2}}} ~ O\\Bigl(\\frac{1}{n^{\\frac{3}{2}}}\\Bigr)$\n",
    "### $\\frac{3}{2}>1 \\Rightarrow \\text{ По второму признаку ряд сходится}$"
   ]
  },
  {
   "cell_type": "markdown",
   "id": "3a7f4ea9",
   "metadata": {},
   "source": [
    "### $a_{n}=\\frac{1}{(n+1)\\sqrt{n+1}}$\n",
    "### $a_{n+1}=\\frac{1}{(n+2)\\sqrt{n+2}}$\n",
    "### $\\lim\\limits_{n\\to+\\infty}\\frac{a_{n+1}}{a_{n}}=\\frac{1}{(n+2)\\sqrt{n+2}}:\\frac{1}{(n+1)\\sqrt{n+1}}=\\frac{(n+1)\\sqrt{n+1}}{(n+2)\\sqrt{n+2}} = 1 \\Rightarrow \\text{ Признак д'Аламбера не работает}$"
   ]
  },
  {
   "cell_type": "markdown",
   "id": "0fc3c5ac",
   "metadata": {},
   "source": [
    "### $\\lim\\limits_{n\\to+\\infty}(\\frac{a_{n}}{a_{n+1}}-1)\\cdot n=(\\frac{(n+2)\\sqrt{n+2}}{(n+1)\\sqrt{n+1}}-1)\\cdot n=\\frac{3}{2} >1 \\Rightarrow \\text{ по признаку Раабе ряд сходится}$"
   ]
  },
  {
   "cell_type": "markdown",
   "id": "62283d84",
   "metadata": {},
   "source": [
    "Ответ: \n",
    "### $\\text{ряд }\\frac{1}{2\\sqrt2}+\\frac{1}{3\\sqrt3}+\\,...\\,+\\frac{1}{(n+1)\\sqrt{n+1}}+\\,...\\,=\\sum\\limits_{n=1}^{+\\infty}\\frac{1}{(n+1)\\sqrt{n+1}}\\text{ сходится}$\n",
    "### $\\approx1.612375$"
   ]
  },
  {
   "cell_type": "markdown",
   "id": "94c778ba",
   "metadata": {},
   "source": [
    "__2.__ Исследовать сходимость ряда\n",
    "\n",
    "### $$\\frac{1000}{1!}+\\frac{1000^2}{2!}+\\,...\\,+\\frac{1000^n}{n!}+\\,...\\,=\\sum\\limits_{n=1}^{+\\infty}\\frac{1000^n}{n!}$$"
   ]
  },
  {
   "cell_type": "markdown",
   "id": "c3fca870",
   "metadata": {},
   "source": [
    "Решение:\n",
    "### $a_{n}=\\frac{1000^n}{n!}$\n",
    "### $a_{n+1}=\\frac{1000^{n+1}}{(n+1)!}$"
   ]
  },
  {
   "cell_type": "markdown",
   "id": "62f67001",
   "metadata": {},
   "source": [
    "### $\\lim\\limits_{n\\to+\\infty}\\frac{a_{n+1}}{a_{n}}=\\frac{1000^{n+1}}{(n+1)!}:\\frac{1000^n}{n!}=\\frac{1000^{n+1}}{(n+1)!}\\cdot\\frac{n!}{1000^n}=\\frac{1000}{n+1}=\\frac{1000}{\\infty}=0<1\\Rightarrow\\text{ по признаку д'Аламбера ряд сходится}$"
   ]
  },
  {
   "cell_type": "markdown",
   "id": "94b270e4",
   "metadata": {},
   "source": [
    " Ответ:\n",
    "### $\\text{ряд }\\frac{1000}{1!}+\\frac{1000^2}{2!}+\\,...\\,+\\frac{1000^n}{n!}+\\,...\\,=\\sum\\limits_{n=1}^{+\\infty}\\frac{1000^n}{n!}\\text{ сходится}$\n",
    "### $-1+e^{1000}$"
   ]
  },
  {
   "cell_type": "markdown",
   "id": "4ec27e02",
   "metadata": {},
   "source": [
    "__3*.__ Исследовать сходимость ряда\n",
    "\n",
    "### $$\\frac{2\\cdot1!}{1}+\\frac{2^2\\cdot2!}{2^2}+\\,...\\,+\\frac{2^n\\cdot n!}{n^n}+\\,...\\,=\\sum\\limits_{n=1}^{+\\infty}\\frac{2^n\\cdot n!}{n^n}$$"
   ]
  },
  {
   "cell_type": "markdown",
   "id": "befd5e5a",
   "metadata": {},
   "source": [
    "Решение:\n",
    "### $a_{n}=\\frac{2^n\\cdot n!}{n^n}$\n",
    "### $a_{n+1}=\\frac{2^{n+1}\\cdot(n+1)!}{(n+1)^{n+1}}$"
   ]
  },
  {
   "cell_type": "markdown",
   "id": "150ce88a",
   "metadata": {},
   "source": [
    "### $\\lim\\limits_{n\\to+\\infty}\\frac{a_{n+1}}{a_{n}}=\\frac{2^{n+1}\\cdot(n+1)!}{(n+1)^{n+1}}:\\frac{2^n\\cdot n!}{n^n}=\\frac{2^{n+1}\\cdot(n+1)!}{(n+1)^{n+1}}\\cdot\\frac{n^n}{2^n\\cdot n!}=\\frac{2(n+1)n^n\\cdot n!}{(n+1)^{n+1}\\cdot n!} =\\frac{2n^n}{(n+1)^n}=\\frac{2}{e} < 1 \\Rightarrow \\text{ ряд сходится}$"
   ]
  },
  {
   "cell_type": "markdown",
   "id": "efab8535",
   "metadata": {},
   "source": [
    "__4*.__ Исследовать сходимость ряда\n",
    "\n",
    "### $$\\frac{3\\cdot1!}{1}+\\frac{3^2\\cdot2!}{2^2}+\\,...\\,+\\frac{3^n\\cdot n!}{n^n}+\\,...\\,=\\sum\\limits_{n=1}^{+\\infty}\\frac{3^n\\cdot n!}{n^n}$$"
   ]
  },
  {
   "cell_type": "markdown",
   "id": "89eddcf4",
   "metadata": {},
   "source": [
    "Решение аналогично третьему примеру только в ответе будет 3 делить на экспоненту, что больше одного, значит ряд расходится"
   ]
  },
  {
   "cell_type": "markdown",
   "id": "9b81a012",
   "metadata": {},
   "source": [
    "__5*.__ Исследовать сходимость ряда\n",
    "\n",
    "### $$-\\frac{\\sqrt1}{2}+\\frac{\\sqrt2}{3}-\\,...\\,+\\frac{(-1)^n\\sqrt n}{n+1}+\\,...\\,=\\sum\\limits_{n=1}^{+\\infty}\\frac{(-1)^n\\sqrt n}{n+1}$$"
   ]
  },
  {
   "cell_type": "markdown",
   "id": "7200e3ca",
   "metadata": {},
   "source": []
  }
 ],
 "metadata": {
  "kernelspec": {
   "display_name": "Python 3",
   "language": "python",
   "name": "python3"
  },
  "language_info": {
   "codemirror_mode": {
    "name": "ipython",
    "version": 3
   },
   "file_extension": ".py",
   "mimetype": "text/x-python",
   "name": "python",
   "nbconvert_exporter": "python",
   "pygments_lexer": "ipython3",
   "version": "3.8.8"
  }
 },
 "nbformat": 4,
 "nbformat_minor": 5
}
