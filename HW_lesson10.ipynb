{
 "cells": [
  {
   "cell_type": "markdown",
   "id": "3def5703",
   "metadata": {},
   "source": [
    "# Введение в математический анализ\n",
    "# GeekBrains\n",
    "##  ДЗ Урока 10\n",
    "## Казанцев Виталий"
   ]
  },
  {
   "cell_type": "markdown",
   "id": "6a22db73",
   "metadata": {},
   "source": [
    "__1.__ Исследовать сходимость ряда. \n",
    "\n",
    "\n",
    "### $$\\frac{1}{2\\sqrt2}+\\frac{1}{3\\sqrt3}+\\,...\\,+\\frac{1}{(n+1)\\sqrt{n+1}}+\\,...\\,=\\sum\\limits_{n=1}^{+\\infty}\\frac{1}{(n+1)\\sqrt{n+1}}$$\n",
    "\n",
    "(*) Двумя различными признаками."
   ]
  },
  {
   "cell_type": "markdown",
   "id": "ce05df18",
   "metadata": {},
   "source": [
    "Решение:\n",
    "### $\\sum\\limits_{n=1}^{+\\infty}\\frac{1}{(n+1)\\sqrt{n+1}}=\\frac{1}{(n+1)^1\\cdot(n+1)^{\\frac{1}{2}}}=\\frac{1}{(n+1)^{\\frac{3}{2}}} ~ O\\Bigl(\\frac{1}{n^{\\frac{3}{2}}}\\Bigr)$\n",
    "### $\\frac{3}{2}>1 \\Rightarrow \\text{ По второму признаку ряд сходится}$"
   ]
  },
  {
   "cell_type": "markdown",
   "id": "ed81e745",
   "metadata": {},
   "source": [
    "### $a_{n}=\\frac{1}{(n+1)\\sqrt{n+1}}$\n",
    "### $a_{n+1}=\\frac{1}{(n+2)\\sqrt{n+2}}$\n",
    "### $\\lim\\limits_{n\\to+\\infty}\\frac{a_{n+1}}{a_{n}}=\\frac{1}{(n+2)\\sqrt{n+2}}:\\frac{1}{(n+1)\\sqrt{n+1}}=\\frac{(n+1)\\sqrt{n+1}}{(n+2)\\sqrt{n+2}} = 1 \\Rightarrow \\text{ Признак д'Аламбера не работает}$"
   ]
  },
  {
   "cell_type": "markdown",
   "id": "5ea0c36d",
   "metadata": {},
   "source": [
    "### $\\lim\\limits_{n\\to+\\infty}(\\frac{a_{n}}{a_{n+1}}-1)\\cdot n=(\\frac{(n+2)\\sqrt{n+2}}{(n+1)\\sqrt{n+1}}-1)\\cdot n=\\frac{3}{2} >1 \\Rightarrow \\text{ по признаку Раабе ряд сходится}$"
   ]
  },
  {
   "cell_type": "markdown",
   "id": "3fa45866",
   "metadata": {},
   "source": [
    "Ответ: \n",
    "### $\\text{ряд }\\frac{1}{2\\sqrt2}+\\frac{1}{3\\sqrt3}+\\,...\\,+\\frac{1}{(n+1)\\sqrt{n+1}}+\\,...\\,=\\sum\\limits_{n=1}^{+\\infty}\\frac{1}{(n+1)\\sqrt{n+1}}\\text{ сходится}$\n",
    "### $\\approx1.612375$"
   ]
  },
  {
   "cell_type": "markdown",
   "id": "fbc470d8",
   "metadata": {},
   "source": [
    "__2.__ Исследовать сходимость ряда\n",
    "\n",
    "### $$\\frac{1000}{1!}+\\frac{1000^2}{2!}+\\,...\\,+\\frac{1000^n}{n!}+\\,...\\,=\\sum\\limits_{n=1}^{+\\infty}\\frac{1000^n}{n!}$$"
   ]
  },
  {
   "cell_type": "markdown",
   "id": "f6e010d5",
   "metadata": {},
   "source": [
    "Решение:\n",
    "### $a_{n}=\\frac{1000^n}{n!}$\n",
    "### $a_{n+1}=\\frac{1000^{n+1}}{(n+1)!}$"
   ]
  },
  {
   "cell_type": "markdown",
   "id": "6a8f172c",
   "metadata": {},
   "source": [
    "### $\\lim\\limits_{n\\to+\\infty}\\frac{a_{n+1}}{a_{n}}=\\frac{1000^{n+1}}{(n+1)!}:\\frac{1000^n}{n!}=\\frac{1000^{n+1}}{(n+1)!}\\cdot\\frac{n!}{1000^n}=\\frac{1000}{n+1}=\\frac{1000}{\\infty}=0<1\\Rightarrow\\text{ по признаку д'Аламбера ряд сходится}$"
   ]
  },
  {
   "cell_type": "markdown",
   "id": "97106955",
   "metadata": {},
   "source": [
    " Ответ:\n",
    "### $\\text{ряд }\\frac{1000}{1!}+\\frac{1000^2}{2!}+\\,...\\,+\\frac{1000^n}{n!}+\\,...\\,=\\sum\\limits_{n=1}^{+\\infty}\\frac{1000^n}{n!}\\text{ сходится}$\n",
    "### $-1+e^{1000}$"
   ]
  },
  {
   "cell_type": "markdown",
   "id": "aea6af9d",
   "metadata": {},
   "source": [
    "__3*.__ Исследовать сходимость ряда\n",
    "\n",
    "### $$\\frac{2\\cdot1!}{1}+\\frac{2^2\\cdot2!}{2^2}+\\,...\\,+\\frac{2^n\\cdot n!}{n^n}+\\,...\\,=\\sum\\limits_{n=1}^{+\\infty}\\frac{2^n\\cdot n!}{n^n}$$"
   ]
  },
  {
   "cell_type": "markdown",
   "id": "947ec52c",
   "metadata": {},
   "source": [
    "Решение:\n",
    "### $a_{n}=\\frac{2^n\\cdot n!}{n^n}$\n",
    "### $a_{n+1}=\\frac{2^{n+1}\\cdot(n+1)!}{(n+1)^{n+1}}$"
   ]
  },
  {
   "cell_type": "markdown",
   "id": "99c7a297",
   "metadata": {},
   "source": [
    "### $\\lim\\limits_{n\\to+\\infty}\\frac{a_{n+1}}{a_{n}}=\\frac{2^{n+1}\\cdot(n+1)!}{(n+1)^{n+1}}:\\frac{2^n\\cdot n!}{n^n}=\\frac{2^{n+1}\\cdot(n+1)!}{(n+1)^{n+1}}\\cdot\\frac{n^n}{2^n\\cdot n!}=\\frac{2(n+1)n^n\\cdot n!}{(n+1)^{n+1}\\cdot n!} =\\frac{2n^n}{(n+1)^n}=\\frac{2}{e} < 1 \\Rightarrow \\text{ ряд сходится}$"
   ]
  },
  {
   "cell_type": "markdown",
   "id": "f92b3a4f",
   "metadata": {},
   "source": [
    "__4*.__ Исследовать сходимость ряда\n",
    "\n",
    "### $$\\frac{3\\cdot1!}{1}+\\frac{3^2\\cdot2!}{2^2}+\\,...\\,+\\frac{3^n\\cdot n!}{n^n}+\\,...\\,=\\sum\\limits_{n=1}^{+\\infty}\\frac{3^n\\cdot n!}{n^n}$$"
   ]
  },
  {
   "cell_type": "markdown",
   "id": "d5833da3",
   "metadata": {},
   "source": [
    "Решение аналогично третьему примеру только в ответе будет 3 делить на экспоненту, что больше одного, значит ряд расходится"
   ]
  },
  {
   "cell_type": "markdown",
   "id": "46c5afe8",
   "metadata": {},
   "source": [
    "__5*.__ Исследовать сходимость ряда\n",
    "\n",
    "### $$-\\frac{\\sqrt1}{2}+\\frac{\\sqrt2}{3}-\\,...\\,+\\frac{(-1)^n\\sqrt n}{n+1}+\\,...\\,=\\sum\\limits_{n=1}^{+\\infty}\\frac{(-1)^n\\sqrt n}{n+1}$$"
   ]
  },
  {
   "cell_type": "markdown",
   "id": "b8aaf9bc",
   "metadata": {},
   "source": [
    "Решение:\n",
    "### $\\lim\\limits_{n\\to+\\infty}a_{n}=\\lim\\limits_{n\\to+\\infty}\\frac{(-1)^n\\sqrt n}{n+1}=0$\n"
   ]
  },
  {
   "cell_type": "markdown",
   "id": "67e9e6cc",
   "metadata": {},
   "source": [
    "### $\\text{При чём } |a_n| \\text{ монотонно стремитсяс к нулю, значит ряд сходится}$"
   ]
  },
  {
   "cell_type": "markdown",
   "id": "41cba57d",
   "metadata": {},
   "source": [
    "__6*.__ Разложить функцию $y=e^x$ в ряд Маклорена, а так же в ряд Фурье на отрезке $[-\\pi, \\pi]$. Построить график функции и разложений."
   ]
  },
  {
   "cell_type": "markdown",
   "id": "a7a5ffde",
   "metadata": {},
   "source": [
    "### Маклорен\n",
    "### $(e^x)'=e^x$\n",
    "### $f(x)=\\sum\\limits_{n=0}^{+\\infty}\\frac{f^{(n)}(0)}{n!}x^n=\\frac{e^0}{0!}x^0+\\frac{e^0}{1!}x^1+\\frac{e^0}{2!}x^2+...+\\frac{e^0}{n!}x^{n}=\\sum\\limits_{n=o}^{+\\infty}\\frac{e^0}{n!}x^{n}$"
   ]
  },
  {
   "cell_type": "markdown",
   "id": "9472e57a",
   "metadata": {},
   "source": [
    "### Фурье"
   ]
  },
  {
   "cell_type": "markdown",
   "id": "18a8da04",
   "metadata": {},
   "source": [
    "### $f(x)=a_{0}+\\sum\\limits_{n=1}^{+\\infty}(a_n\\cos nx+b_n\\sin nx)$\n",
    "\n",
    "### $a_0=\\frac{1}{2\\pi}\\int\\limits_{-\\pi}^\\pi f(x)\\,dx$\n",
    "\n",
    "### $a_n=\\frac{1}{\\pi}\\int\\limits_{-\\pi}^\\pi f(x)\\cos nx\\,dx$\n",
    "\n",
    "### $b_n=\\frac{1}{\\pi}\\int\\limits_{-\\pi}^\\pi f(x)\\sin nx\\,dx$"
   ]
  },
  {
   "cell_type": "markdown",
   "id": "fc59eab6",
   "metadata": {},
   "source": [
    "### $a_0=\\frac{1}{2\\pi}\\cdot(e^{\\pi}-e^{-\\pi})$"
   ]
  },
  {
   "cell_type": "markdown",
   "id": "8adaff1a",
   "metadata": {},
   "source": [
    "### $a_n=\\frac{1}{\\pi}\\int\\limits_{-\\pi}^\\pi e^x\\cos nx\\,dx=\\frac{1}{\\pi}\\cdot\\frac{ne^x\\sin(nx)+e^x\\cos(nx)}{n^2+1}\\Bigr|_{-\\pi}^{\\pi}=\\frac{(-1)^n(e^{\\pi}-e^{-\\pi})}{\\pi(n^2+1)}$"
   ]
  },
  {
   "cell_type": "markdown",
   "id": "7f01cc8a",
   "metadata": {},
   "source": [
    "### $b_n=\\frac{1}{\\pi}\\int\\limits_{-\\pi}^\\pi e^x\\sin nx\\,dx=\\frac{1}{\\pi}\\cdot\\frac{e^x\\sin(nx)-ne^x\\cos(nx)}{n^2+1}\\Bigr|_{-\\pi}^{\\pi}=\\frac{(-1)^{n}n(e^{-\\pi}-e^{\\pi})}{\\pi(n^2+1)}$"
   ]
  },
  {
   "cell_type": "markdown",
   "id": "355a7e21",
   "metadata": {},
   "source": [
    "# ................."
   ]
  },
  {
   "cell_type": "code",
   "execution_count": null,
   "id": "e6c7713e",
   "metadata": {},
   "outputs": [],
   "source": []
  }
 ],
 "metadata": {
  "kernelspec": {
   "display_name": "Python 3",
   "language": "python",
   "name": "python3"
  },
  "language_info": {
   "codemirror_mode": {
    "name": "ipython",
    "version": 3
   },
   "file_extension": ".py",
   "mimetype": "text/x-python",
   "name": "python",
   "nbconvert_exporter": "python",
   "pygments_lexer": "ipython3",
   "version": "3.8.8"
  }
 },
 "nbformat": 4,
 "nbformat_minor": 5
}
