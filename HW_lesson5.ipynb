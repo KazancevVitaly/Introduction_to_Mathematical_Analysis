{
 "cells": [
  {
   "cell_type": "markdown",
   "id": "45e49ffa",
   "metadata": {},
   "source": [
    "# ДЗ Урока 5\n",
    "## Введение в математический анализ\n",
    "## GeekBrains\n",
    "### Казанцев Виталий"
   ]
  },
  {
   "cell_type": "markdown",
   "id": "cf495774",
   "metadata": {},
   "source": [
    "__1.__ Найти производную функции:\n",
    "\n",
    "### $$y=\\frac{1}{x}+\\frac{2}{x^2}-\\frac{5}{x^3}+\\sqrt x -\\sqrt[3]x+\\frac{3}{\\sqrt x}$$"
   ]
  },
  {
   "cell_type": "markdown",
   "id": "7dd8827d",
   "metadata": {},
   "source": [
    "### $y=x^{-1}+2x^{-2}-5x^{-3}+x^{\\frac{1}{2}}-x^{\\frac{1}{3}}+3x^{-\\frac{1}{2}}$\n",
    "Производная от суммы есть сумма производных, поэтому\n",
    "\n",
    "### $y'=(x^{-1})'+(2x^{-2})'-(5x^{-3})'+(x^{\\frac{1}{2}})'-(x^{\\frac{1}{3}})'+(3x^{-\\frac{1}{2}})'$\n",
    "### $y'=-1x^{-2} + 2\\cdot(-2)x^{-3}-5\\cdot(-3)x^{-4}+\\frac{1}{2}x^{-\\frac{1}{2}}-\\frac{1}{3}x^{-\\frac{2}{3}}+3\\cdot(-\\frac{1}{2})x^{-\\frac{3}{2}}$\n",
    "### $y'=-\\frac{1}{x^2}-\\frac{4}{x^3}+\\frac{15}{x^4}+\\frac{1}{2\\sqrt{x}}-\\frac{1}{3\\sqrt[3]{x^2}}-\\frac{3}{2\\sqrt{x^3}}$\n",
    "  \n",
    "Ответ:\n",
    "### $y'=-\\frac{1}{x^2}-\\frac{4}{x^3}+\\frac{15}{x^4}+\\frac{1}{2\\sqrt{x}}-\\frac{1}{3\\sqrt[3]{x^2}}-\\frac{3}{2\\sqrt{x^3}}$"
   ]
  },
  {
   "cell_type": "markdown",
   "id": "ff23c8a7",
   "metadata": {},
   "source": [
    "__2.__ Найти производную функции:\n",
    "\n",
    "### $$y=x \\cdot \\sqrt {1+x^2}$$"
   ]
  },
  {
   "cell_type": "markdown",
   "id": "45f8db98",
   "metadata": {},
   "source": [
    "### $y'=(x\\cdot(1+x^2)^{\\frac{1}{2}})' = x'\\cdot\\sqrt{1+x^2} + x\\cdot((1+x^2)^{\\frac{1}{2}})'$\n",
    "### $x'=1$\n",
    "### $((1+x^2)^{\\frac{1}{2}})'= ((1+x^2)^{\\frac{1}{2}})'\\cdot(1+x^2)'=\\frac{1}{2}(1+x^2)^{-\\frac{1}{2}}\\cdot2x=\\frac{x}{\\sqrt{1+x^2}}$\n",
    "### $y'=\\sqrt{1+x^2} +\\frac{x^2}{\\sqrt{1+x^2}}$\n",
    "  \n",
    "Ответ:  \n",
    "### $y'=\\sqrt{1+x^2} +\\frac{x^2}{\\sqrt{1+x^2}}$"
   ]
  },
  {
   "cell_type": "markdown",
   "id": "ff4f17c7",
   "metadata": {},
   "source": [
    "__3.__ Найти производную функции:\n",
    "\n",
    "### $$y= \\frac{2x}{1-x^2}$$"
   ]
  },
  {
   "cell_type": "markdown",
   "id": "4a846bc0",
   "metadata": {},
   "source": [
    "### $y'=\\frac{(2x)'\\cdot(1-x^2)-2x\\cdot(1-x^2)'}{(1-x^2)^2}$\n",
    "### $(2x)'=2$\n",
    "### $(1-x^2)'=-2x$\n",
    "### $y'=\\frac{2(1-x^2)+4x^2}{(1-x^2)^2} = \\frac{2}{1-x^2}+\\frac{4x^2}{(1-x^2)^2}$"
   ]
  },
  {
   "cell_type": "markdown",
   "id": "73bdc330",
   "metadata": {},
   "source": [
    "__4*.__ Найти производную функции:\n",
    "\n",
    "### $$y=\\sqrt{x+ \\sqrt{x+\\sqrt x}}$$\n"
   ]
  },
  {
   "cell_type": "markdown",
   "id": "3297c8a4",
   "metadata": {},
   "source": [
    "Решение: \n",
    "### ...."
   ]
  },
  {
   "cell_type": "markdown",
   "id": "cc3d44ad",
   "metadata": {},
   "source": [
    "Ответ:\n",
    "### $y'= \\frac{\\frac{1}{2}+\\frac{\\frac{1}{2}+\\frac{1}{4\\sqrt{x}}}{2\\sqrt{x+\\sqrt{x}}}}{\\sqrt{x+\\sqrt{x+\\sqrt{x}}}}$"
   ]
  },
  {
   "cell_type": "markdown",
   "id": "2535b1b7",
   "metadata": {},
   "source": [
    "__5.__ Найти производную функции:\n",
    "\n",
    "### $$y= \\ln(x+\\sqrt{x^2+1})$$"
   ]
  },
  {
   "cell_type": "markdown",
   "id": "67dad14e",
   "metadata": {},
   "source": [
    "Решение:\n",
    "### $y' = (\\ln(x+\\sqrt{x^2+1}))'\\cdot(x+\\sqrt{x^2+1})'=(\\ln(x+\\sqrt{x^2+1}))'\\cdot((x)'+(\\sqrt{x^2+1})')=(\\ln(x+\\sqrt{x^2+1}))'\\cdot((x)'+((x^2+1)^{\\frac{1}{2}})'\\cdot(x^2+1)')$\n",
    "### $(\\ln(x+\\sqrt{x^2+1}))'= \\frac{1}{x+\\sqrt{x^2+1}}$\n",
    "### $x'=1$\n",
    "### $((x^2+1)^{\\frac{1}{2}})' = \\frac{1}{2\\sqrt{x^2+1}}$\n",
    "### $(x^2+1)'=2x$\n",
    "### $y'= \\frac{1}{x+\\sqrt{x^2+1}}\\cdot(1+\\frac{2x}{2\\sqrt{x^2+1}})=\\frac{1+\\frac{x}{\\sqrt{x^2+1}}}{x+\\sqrt{x^2+1}}=\\frac{1}{\\sqrt{x^2+1}}$\n",
    "Ответ:  \n",
    "### $y'=\\frac{1}{\\sqrt{x^2+1}}$"
   ]
  },
  {
   "cell_type": "markdown",
   "id": "ab847712",
   "metadata": {},
   "source": [
    "__6.__ Найти производную функции:\n",
    "\n",
    "### $$y=x \\cdot \\ln(x+\\sqrt{x^2+1})-\\sqrt{x^2+1}$$"
   ]
  },
  {
   "cell_type": "markdown",
   "id": "39fbdfe4",
   "metadata": {},
   "source": [
    "Решение:  \n",
    "### $y'=x'\\cdot\\ln(x+\\sqrt{x^2+1})+x\\cdot(\\ln(x+\\sqrt{x^2+1}))'-(\\sqrt{x^2+1})'$\n",
    "### $x'=1$\n",
    "### $(\\ln(x+\\sqrt{x^2+1}))'=\\frac{1}{\\sqrt{x^2+1}}$\n",
    "### $(\\sqrt{x^2+1})'=\\frac{x}{\\sqrt{x^2+1}}$\n",
    "### $y'=\\ln(x+\\sqrt{x^2+1})+\\frac{x}{\\sqrt{x^2+1}}-\\frac{x}{\\sqrt{x^2+1}}=\\ln(x+\\sqrt{x^2+1})$\n",
    "Ответ:  \n",
    "### $y'=\\ln(x+\\sqrt{x^2+1})$"
   ]
  },
  {
   "cell_type": "code",
   "execution_count": null,
   "id": "bae8caa7",
   "metadata": {},
   "outputs": [],
   "source": []
  }
 ],
 "metadata": {
  "kernelspec": {
   "display_name": "Python 3",
   "language": "python",
   "name": "python3"
  },
  "language_info": {
   "codemirror_mode": {
    "name": "ipython",
    "version": 3
   },
   "file_extension": ".py",
   "mimetype": "text/x-python",
   "name": "python",
   "nbconvert_exporter": "python",
   "pygments_lexer": "ipython3",
   "version": "3.8.8"
  }
 },
 "nbformat": 4,
 "nbformat_minor": 5
}
