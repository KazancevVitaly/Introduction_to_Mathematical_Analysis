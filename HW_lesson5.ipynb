{
 "cells": [
  {
   "cell_type": "markdown",
   "id": "45e49ffa",
   "metadata": {},
   "source": [
    "# ДЗ Урока 5\n",
    "## Введение в математический анализ\n",
    "## GeekBrains\n",
    "### Казанцев Виталий"
   ]
  },
  {
   "cell_type": "markdown",
   "id": "cf495774",
   "metadata": {},
   "source": [
    "__1.__ Найти производную функции:\n",
    "\n",
    "### $$y=\\frac{1}{x}+\\frac{2}{x^2}-\\frac{5}{x^3}+\\sqrt x -\\sqrt[3]x+\\frac{3}{\\sqrt x}$$"
   ]
  },
  {
   "cell_type": "markdown",
   "id": "7dd8827d",
   "metadata": {},
   "source": [
    "### $y=x^{-1}+2x^{-2}-5x^{-3}+x^{\\frac{1}{2}}-x^{\\frac{1}{3}}+3x^{-\\frac{1}{2}}$\n",
    "Производная от суммы есть сумма производных, поэтому\n",
    "\n",
    "### $y'=(x^{-1})'+(2x^{-2})'-(5x^{-3})'+(x^{\\frac{1}{2}})'-(x^{\\frac{1}{3}})'+(3x^{-\\frac{1}{2}})'$\n",
    "### $y'=-1x^{-2} + 2\\cdot(-2)x^{-3}-5\\cdot(-3)x^{-4}+\\frac{1}{2}x^{-\\frac{1}{2}}-\\frac{1}{3}x^{-\\frac{2}{3}}+3\\cdot(-\\frac{1}{2})x^{-\\frac{3}{2}}$\n",
    "### $y'=-\\frac{1}{x^2}-\\frac{4}{x^3}+\\frac{15}{x^4}+\\frac{1}{2\\sqrt{x}}-\\frac{1}{3\\sqrt[3]{x^2}}-\\frac{3}{2\\sqrt{x^3}}$\n",
    "  \n",
    "Ответ:\n",
    "### $y'=-\\frac{1}{x^2}-\\frac{4}{x^3}+\\frac{15}{x^4}+\\frac{1}{2\\sqrt{x}}-\\frac{1}{3\\sqrt[3]{x^2}}-\\frac{3}{2\\sqrt{x^3}}$"
   ]
  },
  {
   "cell_type": "markdown",
   "id": "ff23c8a7",
   "metadata": {},
   "source": [
    "__2.__ Найти производную функции:\n",
    "\n",
    "### $$y=x \\cdot \\sqrt {1+x^2}$$"
   ]
  },
  {
   "cell_type": "markdown",
   "id": "45f8db98",
   "metadata": {},
   "source": [
    "### $y'=(x\\cdot(1+x^2)^{\\frac{1}{2}})' = x'\\cdot\\sqrt{1+x^2} + x\\cdot((1+x^2)^{\\frac{1}{2}})'$\n",
    "### $x'=1$\n",
    "### $((1+x^2)^{\\frac{1}{2}})'= ((1+x^2)^{\\frac{1}{2}})'\\cdot(1+x^2)'=\\frac{1}{2}(1+x^2)^{-\\frac{1}{2}}\\cdot2x=\\frac{x}{\\sqrt{1+x^2}}$\n",
    "### $y'=\\sqrt{1+x^2} +\\frac{x^2}{\\sqrt{1+x^2}}$\n",
    "  \n",
    "Ответ:  \n",
    "### $y'=\\sqrt{1+x^2} +\\frac{x^2}{\\sqrt{1+x^2}}$"
   ]
  },
  {
   "cell_type": "markdown",
   "id": "ff4f17c7",
   "metadata": {},
   "source": [
    "__3.__ Найти производную функции:\n",
    "\n",
    "### $$y= \\frac{2x}{1-x^2}$$"
   ]
  },
  {
   "cell_type": "markdown",
   "id": "4a846bc0",
   "metadata": {},
   "source": [
    "### $y'=\\frac{(2x)'\\cdot(1-x^2)-2x\\cdot(1-x^2)'}{(1-x^2)^2}$\n",
    "### $(2x)'=2$\n",
    "### $(1-x^2)'=-2x$\n",
    "### $y'=\\frac{2(1-x^2)+4x^2}{(1-x^2)^2} = \\frac{2}{1-x^2}+\\frac{4x^2}{(1-x^2)^2}$"
   ]
  },
  {
   "cell_type": "markdown",
   "id": "73bdc330",
   "metadata": {},
   "source": [
    "__4*.__ Найти производную функции:\n",
    "\n",
    "### $$y=\\sqrt{x+ \\sqrt{x+\\sqrt x}}$$\n"
   ]
  },
  {
   "cell_type": "markdown",
   "id": "3297c8a4",
   "metadata": {},
   "source": [
    "Решение: \n",
    "### ...."
   ]
  },
  {
   "cell_type": "markdown",
   "id": "cc3d44ad",
   "metadata": {},
   "source": [
    "Ответ:\n",
    "### $y'= \\frac{\\frac{1}{2}+\\frac{\\frac{1}{2}+\\frac{1}{4\\sqrt{x}}}{2\\sqrt{x+\\sqrt{x}}}}{\\sqrt{x+\\sqrt{x+\\sqrt{x}}}}$"
   ]
  },
  {
   "cell_type": "markdown",
   "id": "2b2d4408",
   "metadata": {},
   "source": [
    "__5.__ Найти производную функции:\n",
    "\n",
    "### $$y= \\ln(x+\\sqrt{x^2+1})$$"
   ]
  },
  {
   "cell_type": "markdown",
   "id": "f68f0924",
   "metadata": {},
   "source": [
    "Решение:\n",
    "### $y'=(\\ln(x+\\sqrt{x^2+1}))'\\cdot(x+\\sqrt{x^2+1})'=(\\ln(x+\\sqrt{x^2+1}))'\\cdot((x)'+(\\sqrt{x^2+1})')=(\\ln(x+\\sqrt{x^2+1}))'\\cdot((x)'+((x^2+1)^{\\frac{1}{2}})'\\cdot(x^2+1)')$\n",
    "### $(\\ln(x+\\sqrt{x^2+1}))'= \\frac{1}{x+\\sqrt{x^2+1}}$\n",
    "### $x'=1$\n",
    "### $((x^2+1)^{\\frac{1}{2}})' = \\frac{1}{2\\sqrt{x^2+1}}$\n",
    "### $(x^2+1)'=2x$\n",
    "### $y'= \\frac{1}{x+\\sqrt{x^2+1}}\\cdot(1+\\frac{2x}{2\\sqrt{x^2+1}})=\\frac{1+\\frac{x}{\\sqrt{x^2+1}}}{x+\\sqrt{x^2+1}}=\\frac{1}{\\sqrt{x^2+1}}$\n",
    "Ответ:  \n",
    "### $y'=\\frac{1}{\\sqrt{x^2+1}}$"
   ]
  },
  {
   "cell_type": "markdown",
   "id": "d3f4ae3d",
   "metadata": {},
   "source": [
    "__6.__ Найти производную функции:\n",
    "\n",
    "### $$y=x \\cdot \\ln(x+\\sqrt{x^2+1})-\\sqrt{x^2+1}$$"
   ]
  },
  {
   "cell_type": "markdown",
   "id": "a050090b",
   "metadata": {},
   "source": [
    "Решение:  \n",
    "### $y'=x'\\cdot\\ln(x+\\sqrt{x^2+1})+x\\cdot(\\ln(x+\\sqrt{x^2+1}))'-(\\sqrt{x^2+1})'$\n",
    "### $x'=1$\n",
    "### $(\\ln(x+\\sqrt{x^2+1}))'=\\frac{1}{\\sqrt{x^2+1}}$\n",
    "### $(\\sqrt{x^2+1})'=\\frac{x}{\\sqrt{x^2+1}}$\n",
    "### $y'=\\ln(x+\\sqrt{x^2+1})+\\frac{x}{\\sqrt{x^2+1}}-\\frac{x}{\\sqrt{x^2+1}}=\\ln(x+\\sqrt{x^2+1})$\n",
    "Ответ:  \n",
    "### $y'=\\ln(x+\\sqrt{x^2+1})$"
   ]
  },
  {
   "cell_type": "markdown",
   "id": "d7572638",
   "metadata": {},
   "source": [
    "__7*.__ Найти производную функции:\n",
    "\n",
    "### $$y=\\arcsin (\\sin x)$$"
   ]
  },
  {
   "cell_type": "markdown",
   "id": "acffadaa",
   "metadata": {},
   "source": [
    "Решение:\n",
    "### $y'=(\\arcsin(\\sin{x}))'\\cdot(\\sin{x})'=\\frac{\\cos{x}}{\\sqrt{1-\\sin^2{x}}}$\n",
    "Ответ:\n",
    "### $y'=\\frac{\\cos{x}}{\\sqrt{1-\\sin^2{x}}}$"
   ]
  },
  {
   "cell_type": "markdown",
   "id": "1ba50118",
   "metadata": {},
   "source": [
    "__8*.__ Вычислить приближенное значение: \n",
    "\n",
    "### $$\\sin(1^0)=\\sin\\Bigl(\\frac{\\pi}{180}\\Bigr)$$"
   ]
  },
  {
   "cell_type": "markdown",
   "id": "eea693c8",
   "metadata": {},
   "source": [
    "Решение:\n",
    "### $\\sin(1^0)=\\sin(0^0+1^0)\\approx\\sin(0^0)+cos(0^0)\\cdot\\frac{\\pi}{180}=\\frac{\\pi}{180}$\n",
    "Ответ:\n",
    "### $\\sin(1^0)=\\frac{\\pi}{180}$"
   ]
  },
  {
   "cell_type": "markdown",
   "id": "1208c473",
   "metadata": {},
   "source": [
    "__9**.__ Написать на python алгоритм, по вычислению значений $\\sin(x)$ для $х \\in[0, 30^0]$\n",
    "\n",
    "Для проверки подойдут данные из таблицы Брадиса"
   ]
  },
  {
   "cell_type": "code",
   "execution_count": 15,
   "id": "6b9ed508",
   "metadata": {},
   "outputs": [
    {
     "data": {
      "text/plain": [
       "0.5022432626570904"
      ]
     },
     "execution_count": 15,
     "metadata": {},
     "output_type": "execute_result"
    }
   ],
   "source": [
    "from math import pi, sin, cos\n",
    "#input('Число от 1 до 30')\n",
    "x = 30\n",
    "def sinus_calculation(x, n=0, sinus=0, cosinus=0):\n",
    "    delta_x = 1\n",
    "    if n == x:\n",
    "        sinus_x = sinus + cosinus*pi/180\n",
    "        return sinus_x\n",
    "    if n == 0:\n",
    "        sinus = sin(n)\n",
    "        cosinus = cos(n)\n",
    "        return sinus_calculation(x, n+delta_x, sinus=sinus, cosinus=cosinus)\n",
    "    sinus_x = sinus + cosinus*pi/180\n",
    "    cosinus = cosinus - sinus*pi/180\n",
    "    return sinus_calculation(x, n+delta_x, sinus=sinus_x, cosinus=cosinus)\n",
    "sinus_calculation(x)   "
   ]
  },
  {
   "cell_type": "code",
   "execution_count": 70,
   "id": "85486394",
   "metadata": {},
   "outputs": [
    {
     "name": "stdout",
     "output_type": "stream",
     "text": [
      "2354\n"
     ]
    },
    {
     "data": {
      "text/plain": [
       "0.39940351633059124"
      ]
     },
     "execution_count": 70,
     "metadata": {},
     "output_type": "execute_result"
    }
   ],
   "source": [
    "x = 23.54\n",
    "delta_x = 0.01\n",
    "delta_xrad = delta_x*pi/180\n",
    "n = 0\n",
    "m = int(x*100)\n",
    "sinus = 0\n",
    "cosinus = 0\n",
    "while n != m:\n",
    "    if n == 0:\n",
    "        sinus = sin(n)\n",
    "        cosinus = cos(n)\n",
    "    sinus_x = sinus + cosinus*delta_xrad\n",
    "    cosinus = cosinus - sinus*delta_xrad\n",
    "    sinus = sinus_x\n",
    "    n += 1\n",
    "sinus"
   ]
  },
  {
   "cell_type": "code",
   "execution_count": 67,
   "id": "a5faaad5",
   "metadata": {},
   "outputs": [
    {
     "data": {
      "text/plain": [
       "134.0"
      ]
     },
     "execution_count": 67,
     "metadata": {},
     "output_type": "execute_result"
    }
   ],
   "source": [
    "1.34*100"
   ]
  },
  {
   "cell_type": "code",
   "execution_count": null,
   "id": "22a18377",
   "metadata": {},
   "outputs": [],
   "source": []
  }
 ],
 "metadata": {
  "kernelspec": {
   "display_name": "Python 3",
   "language": "python",
   "name": "python3"
  },
  "language_info": {
   "codemirror_mode": {
    "name": "ipython",
    "version": 3
   },
   "file_extension": ".py",
   "mimetype": "text/x-python",
   "name": "python",
   "nbconvert_exporter": "python",
   "pygments_lexer": "ipython3",
   "version": "3.8.8"
  }
 },
 "nbformat": 4,
 "nbformat_minor": 5
}
