{
 "cells": [
  {
   "cell_type": "markdown",
   "id": "88df8d74",
   "metadata": {},
   "source": [
    "# Введение в математический анализ\n",
    "# ДЗ Урока 1\n",
    "## Казанцев Виталий"
   ]
  },
  {
   "cell_type": "markdown",
   "id": "add9bfdd",
   "metadata": {},
   "source": [
    "__1.__ Представьте в виде __несократимой__ рациональной дроби:\n",
    "\n",
    "### $$а)\\,\\,\\, 0.(216);$$\n",
    "\n",
    "### $$б)\\,\\,\\, 1.0(01).$$"
   ]
  },
  {
   "cell_type": "markdown",
   "id": "7d1249c1",
   "metadata": {},
   "source": [
    "### a)\n",
    "$$0.(216)$$ \n",
    "$$x=0.(216)$$\n",
    "$$1000x=216+x$$\n",
    "$$999x=216$$ \n",
    "$$x=\\frac{216}{999}$$\n",
    "$$x=\\frac{8}{37}$$\n"
   ]
  },
  {
   "cell_type": "code",
   "execution_count": 8,
   "id": "89644e29",
   "metadata": {},
   "outputs": [
    {
     "data": {
      "text/plain": [
       "0.21621621621621623"
      ]
     },
     "execution_count": 8,
     "metadata": {},
     "output_type": "execute_result"
    }
   ],
   "source": [
    "x = 8 / 37\n",
    "x"
   ]
  },
  {
   "cell_type": "markdown",
   "id": "8d30bc51",
   "metadata": {},
   "source": [
    "### b)\n",
    "$$1.0(01)$$\n",
    "$$x=1.0(01)$$\n",
    "$$1000x=1001.(01)$$\n",
    "$$1000x=1001+0.(01)$$\n",
    "$$y=0.(01)$$\n",
    "$$100y=1+y$$\n",
    "$$y=\\frac{1}{99}$$\n",
    "$$1000x=1001+\\frac{1}{99}$$\n",
    "$$1000x=\\frac{99100}{99}$$\n",
    "$$x=\\frac{991}{990}$$\n",
    "$$x=1\\frac{1}{990}$$"
   ]
  },
  {
   "cell_type": "code",
   "execution_count": 14,
   "id": "6f7c3cc4",
   "metadata": {},
   "outputs": [
    {
     "data": {
      "text/plain": [
       "(1.001010101010101, 0.010101010101010102)"
      ]
     },
     "execution_count": 14,
     "metadata": {},
     "output_type": "execute_result"
    }
   ],
   "source": [
    "y = 1 / 99\n",
    "x = 1 + 1 / 990\n",
    "x,y"
   ]
  },
  {
   "cell_type": "markdown",
   "id": "5a0f9474",
   "metadata": {},
   "source": [
    "__2*.__ Пусть $x =\\frac{2}{21}$. Известно, что для некоторого натурального $k$ число $x$ записывается в $k$ - ичной системе счисления как $0.(13)_k = 0, 131313..._k$. Найдите $k$.\n"
   ]
  },
  {
   "cell_type": "code",
   "execution_count": 18,
   "id": "08e63cd3",
   "metadata": {},
   "outputs": [
    {
     "data": {
      "text/plain": [
       "0.09523809523809523"
      ]
     },
     "execution_count": 18,
     "metadata": {},
     "output_type": "execute_result"
    }
   ],
   "source": [
    "2/21"
   ]
  },
  {
   "cell_type": "markdown",
   "id": "c57f436e",
   "metadata": {},
   "source": [
    "__3.__ Проверьте любым способ, является ли данные логические формулы тавтологией:\n",
    "\n",
    "### $$a)\\,\\,\\, (A \\vee B) \\rightarrow (B \\vee\\overline A)$$\n",
    "### $$б)\\,\\,\\, A \\rightarrow (A \\vee (\\overline B \\wedge A))$$"
   ]
  },
  {
   "cell_type": "markdown",
   "id": "d80abdc1",
   "metadata": {},
   "source": [
    "### a) $$\\,\\,\\, (A \\vee B) \\rightarrow (B \\vee\\overline A)$$\n",
    "\n",
    "<table>\n",
    "    <thead>\n",
    "        <tr>\n",
    "            <th>$$A$$</th><th>$$B$$</th><th>$$A\\vee B$$</th><th>$$B\\vee \\overline A$$</th><th>$$\\,\\,\\, (A \\vee B) \\rightarrow (B \\vee\\overline A)$$</th>\n",
    "        </tr>\n",
    "    </thead>\n",
    "    <tboody>\n",
    "        <tr>\n",
    "            <td>$$0$$</td><td>$$0$$</td><td>$$0$$</td><td>$$1$$</td><td>1</td>\n",
    "        </tr>\n",
    "        <tr>\n",
    "            <td>$$0$$</td><td>$$1$$</td><td>$$1$$</td><td>$$1$$</td><td>1</td>\n",
    "        </tr>\n",
    "        <tr>\n",
    "            <td>$$1$$</td><td>$$0$$</td><td>$$1$$</td><td>$$0$$</td><td>1</td>\n",
    "        </tr>\n",
    "        <tr>\n",
    "            <td>$$1$$</td><td>$$1$$</td><td>$$1$$</td><td>$$1$$</td><td>1</td>\n",
    "        </tr>\n",
    "    </tboody>\n",
    "</table>\n",
    "\n",
    "Таким образом выражение a) являяется тавтологией, т.к. истино при любых значениях A и B"
   ]
  },
  {
   "cell_type": "markdown",
   "id": "d511168f",
   "metadata": {},
   "source": [
    "### b) $$\\,\\,\\, A \\rightarrow (A \\vee (\\overline B \\wedge A))$$\n",
    "$$(A \\vee (\\overline B \\wedge A))=(A \\vee(A \\wedge \\overline B)) \\text{-- закон коммутативности конъюнкции}$$\n",
    "$$\\text{Согласно с законом поглощения для дизъюнкции значение} \\overline B \\textлишнее$$"
   ]
  }
 ],
 "metadata": {
  "kernelspec": {
   "display_name": "Python 3",
   "language": "python",
   "name": "python3"
  },
  "language_info": {
   "codemirror_mode": {
    "name": "ipython",
    "version": 3
   },
   "file_extension": ".py",
   "mimetype": "text/x-python",
   "name": "python",
   "nbconvert_exporter": "python",
   "pygments_lexer": "ipython3",
   "version": "3.8.8"
  }
 },
 "nbformat": 4,
 "nbformat_minor": 5
}
